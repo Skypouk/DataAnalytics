{
 "cells": [
  {
   "cell_type": "markdown",
   "metadata": {},
   "source": [
    "# Projet Machine Learning"
   ]
  },
  {
   "cell_type": "markdown",
   "metadata": {},
   "source": [
    "#### Le but de ce projet est de prédir la température critique d'un superconducteur en utilisant 81 variables.\n",
    "NB : problème de régression"
   ]
  },
  {
   "cell_type": "code",
   "execution_count": 11,
   "metadata": {
    "scrolled": false
   },
   "outputs": [
    {
     "name": "stdout",
     "output_type": "stream",
     "text": [
      "La taille de nos données d'entrainement est  (15948, 82)\n"
     ]
    },
    {
     "data": {
      "text/html": [
       "<div>\n",
       "<style scoped>\n",
       "    .dataframe tbody tr th:only-of-type {\n",
       "        vertical-align: middle;\n",
       "    }\n",
       "\n",
       "    .dataframe tbody tr th {\n",
       "        vertical-align: top;\n",
       "    }\n",
       "\n",
       "    .dataframe thead th {\n",
       "        text-align: right;\n",
       "    }\n",
       "</style>\n",
       "<table border=\"1\" class=\"dataframe\">\n",
       "  <thead>\n",
       "    <tr style=\"text-align: right;\">\n",
       "      <th></th>\n",
       "      <th>number_of_elements</th>\n",
       "      <th>mean_atomic_mass</th>\n",
       "      <th>wtd_mean_atomic_mass</th>\n",
       "      <th>gmean_atomic_mass</th>\n",
       "      <th>wtd_gmean_atomic_mass</th>\n",
       "      <th>entropy_atomic_mass</th>\n",
       "      <th>wtd_entropy_atomic_mass</th>\n",
       "      <th>range_atomic_mass</th>\n",
       "      <th>wtd_range_atomic_mass</th>\n",
       "      <th>std_atomic_mass</th>\n",
       "      <th>...</th>\n",
       "      <th>wtd_mean_Valence</th>\n",
       "      <th>gmean_Valence</th>\n",
       "      <th>wtd_gmean_Valence</th>\n",
       "      <th>entropy_Valence</th>\n",
       "      <th>wtd_entropy_Valence</th>\n",
       "      <th>range_Valence</th>\n",
       "      <th>wtd_range_Valence</th>\n",
       "      <th>std_Valence</th>\n",
       "      <th>wtd_std_Valence</th>\n",
       "      <th>critical_temp</th>\n",
       "    </tr>\n",
       "  </thead>\n",
       "  <tbody>\n",
       "    <tr>\n",
       "      <th>0</th>\n",
       "      <td>4</td>\n",
       "      <td>88.944468</td>\n",
       "      <td>57.862692</td>\n",
       "      <td>66.361592</td>\n",
       "      <td>36.116612</td>\n",
       "      <td>1.181795</td>\n",
       "      <td>1.062396</td>\n",
       "      <td>122.90607</td>\n",
       "      <td>31.794921</td>\n",
       "      <td>51.968828</td>\n",
       "      <td>...</td>\n",
       "      <td>2.257143</td>\n",
       "      <td>2.213364</td>\n",
       "      <td>2.219783</td>\n",
       "      <td>1.368922</td>\n",
       "      <td>1.066221</td>\n",
       "      <td>1</td>\n",
       "      <td>1.085714</td>\n",
       "      <td>0.433013</td>\n",
       "      <td>0.437059</td>\n",
       "      <td>29.0</td>\n",
       "    </tr>\n",
       "    <tr>\n",
       "      <th>1</th>\n",
       "      <td>5</td>\n",
       "      <td>92.729214</td>\n",
       "      <td>58.518416</td>\n",
       "      <td>73.132787</td>\n",
       "      <td>36.396602</td>\n",
       "      <td>1.449309</td>\n",
       "      <td>1.057755</td>\n",
       "      <td>122.90607</td>\n",
       "      <td>36.161939</td>\n",
       "      <td>47.094633</td>\n",
       "      <td>...</td>\n",
       "      <td>2.257143</td>\n",
       "      <td>1.888175</td>\n",
       "      <td>2.210679</td>\n",
       "      <td>1.557113</td>\n",
       "      <td>1.047221</td>\n",
       "      <td>2</td>\n",
       "      <td>1.128571</td>\n",
       "      <td>0.632456</td>\n",
       "      <td>0.468606</td>\n",
       "      <td>26.0</td>\n",
       "    </tr>\n",
       "    <tr>\n",
       "      <th>2</th>\n",
       "      <td>4</td>\n",
       "      <td>88.944468</td>\n",
       "      <td>57.885242</td>\n",
       "      <td>66.361592</td>\n",
       "      <td>36.122509</td>\n",
       "      <td>1.181795</td>\n",
       "      <td>0.975980</td>\n",
       "      <td>122.90607</td>\n",
       "      <td>35.741099</td>\n",
       "      <td>51.968828</td>\n",
       "      <td>...</td>\n",
       "      <td>2.271429</td>\n",
       "      <td>2.213364</td>\n",
       "      <td>2.232679</td>\n",
       "      <td>1.368922</td>\n",
       "      <td>1.029175</td>\n",
       "      <td>1</td>\n",
       "      <td>1.114286</td>\n",
       "      <td>0.433013</td>\n",
       "      <td>0.444697</td>\n",
       "      <td>19.0</td>\n",
       "    </tr>\n",
       "    <tr>\n",
       "      <th>3</th>\n",
       "      <td>4</td>\n",
       "      <td>88.944468</td>\n",
       "      <td>57.873967</td>\n",
       "      <td>66.361592</td>\n",
       "      <td>36.119560</td>\n",
       "      <td>1.181795</td>\n",
       "      <td>1.022291</td>\n",
       "      <td>122.90607</td>\n",
       "      <td>33.768010</td>\n",
       "      <td>51.968828</td>\n",
       "      <td>...</td>\n",
       "      <td>2.264286</td>\n",
       "      <td>2.213364</td>\n",
       "      <td>2.226222</td>\n",
       "      <td>1.368922</td>\n",
       "      <td>1.048834</td>\n",
       "      <td>1</td>\n",
       "      <td>1.100000</td>\n",
       "      <td>0.433013</td>\n",
       "      <td>0.440952</td>\n",
       "      <td>22.0</td>\n",
       "    </tr>\n",
       "    <tr>\n",
       "      <th>4</th>\n",
       "      <td>4</td>\n",
       "      <td>88.944468</td>\n",
       "      <td>57.840143</td>\n",
       "      <td>66.361592</td>\n",
       "      <td>36.110716</td>\n",
       "      <td>1.181795</td>\n",
       "      <td>1.129224</td>\n",
       "      <td>122.90607</td>\n",
       "      <td>27.848743</td>\n",
       "      <td>51.968828</td>\n",
       "      <td>...</td>\n",
       "      <td>2.242857</td>\n",
       "      <td>2.213364</td>\n",
       "      <td>2.206963</td>\n",
       "      <td>1.368922</td>\n",
       "      <td>1.096052</td>\n",
       "      <td>1</td>\n",
       "      <td>1.057143</td>\n",
       "      <td>0.433013</td>\n",
       "      <td>0.428809</td>\n",
       "      <td>23.0</td>\n",
       "    </tr>\n",
       "  </tbody>\n",
       "</table>\n",
       "<p>5 rows × 82 columns</p>\n",
       "</div>"
      ],
      "text/plain": [
       "   number_of_elements  mean_atomic_mass  wtd_mean_atomic_mass  \\\n",
       "0                   4         88.944468             57.862692   \n",
       "1                   5         92.729214             58.518416   \n",
       "2                   4         88.944468             57.885242   \n",
       "3                   4         88.944468             57.873967   \n",
       "4                   4         88.944468             57.840143   \n",
       "\n",
       "   gmean_atomic_mass  wtd_gmean_atomic_mass  entropy_atomic_mass  \\\n",
       "0          66.361592              36.116612             1.181795   \n",
       "1          73.132787              36.396602             1.449309   \n",
       "2          66.361592              36.122509             1.181795   \n",
       "3          66.361592              36.119560             1.181795   \n",
       "4          66.361592              36.110716             1.181795   \n",
       "\n",
       "   wtd_entropy_atomic_mass  range_atomic_mass  wtd_range_atomic_mass  \\\n",
       "0                 1.062396          122.90607              31.794921   \n",
       "1                 1.057755          122.90607              36.161939   \n",
       "2                 0.975980          122.90607              35.741099   \n",
       "3                 1.022291          122.90607              33.768010   \n",
       "4                 1.129224          122.90607              27.848743   \n",
       "\n",
       "   std_atomic_mass  ...  wtd_mean_Valence  gmean_Valence  wtd_gmean_Valence  \\\n",
       "0        51.968828  ...          2.257143       2.213364           2.219783   \n",
       "1        47.094633  ...          2.257143       1.888175           2.210679   \n",
       "2        51.968828  ...          2.271429       2.213364           2.232679   \n",
       "3        51.968828  ...          2.264286       2.213364           2.226222   \n",
       "4        51.968828  ...          2.242857       2.213364           2.206963   \n",
       "\n",
       "   entropy_Valence  wtd_entropy_Valence  range_Valence  wtd_range_Valence  \\\n",
       "0         1.368922             1.066221              1           1.085714   \n",
       "1         1.557113             1.047221              2           1.128571   \n",
       "2         1.368922             1.029175              1           1.114286   \n",
       "3         1.368922             1.048834              1           1.100000   \n",
       "4         1.368922             1.096052              1           1.057143   \n",
       "\n",
       "   std_Valence  wtd_std_Valence  critical_temp  \n",
       "0     0.433013         0.437059           29.0  \n",
       "1     0.632456         0.468606           26.0  \n",
       "2     0.433013         0.444697           19.0  \n",
       "3     0.433013         0.440952           22.0  \n",
       "4     0.433013         0.428809           23.0  \n",
       "\n",
       "[5 rows x 82 columns]"
      ]
     },
     "metadata": {},
     "output_type": "display_data"
    },
    {
     "name": "stdout",
     "output_type": "stream",
     "text": [
      "La taille de nos données de test est  (5315, 81)\n"
     ]
    },
    {
     "data": {
      "text/html": [
       "<div>\n",
       "<style scoped>\n",
       "    .dataframe tbody tr th:only-of-type {\n",
       "        vertical-align: middle;\n",
       "    }\n",
       "\n",
       "    .dataframe tbody tr th {\n",
       "        vertical-align: top;\n",
       "    }\n",
       "\n",
       "    .dataframe thead th {\n",
       "        text-align: right;\n",
       "    }\n",
       "</style>\n",
       "<table border=\"1\" class=\"dataframe\">\n",
       "  <thead>\n",
       "    <tr style=\"text-align: right;\">\n",
       "      <th></th>\n",
       "      <th>number_of_elements</th>\n",
       "      <th>mean_atomic_mass</th>\n",
       "      <th>wtd_mean_atomic_mass</th>\n",
       "      <th>gmean_atomic_mass</th>\n",
       "      <th>wtd_gmean_atomic_mass</th>\n",
       "      <th>entropy_atomic_mass</th>\n",
       "      <th>wtd_entropy_atomic_mass</th>\n",
       "      <th>range_atomic_mass</th>\n",
       "      <th>wtd_range_atomic_mass</th>\n",
       "      <th>std_atomic_mass</th>\n",
       "      <th>...</th>\n",
       "      <th>mean_Valence</th>\n",
       "      <th>wtd_mean_Valence</th>\n",
       "      <th>gmean_Valence</th>\n",
       "      <th>wtd_gmean_Valence</th>\n",
       "      <th>entropy_Valence</th>\n",
       "      <th>wtd_entropy_Valence</th>\n",
       "      <th>range_Valence</th>\n",
       "      <th>wtd_range_Valence</th>\n",
       "      <th>std_Valence</th>\n",
       "      <th>wtd_std_Valence</th>\n",
       "    </tr>\n",
       "  </thead>\n",
       "  <tbody>\n",
       "    <tr>\n",
       "      <th>0</th>\n",
       "      <td>4</td>\n",
       "      <td>55.604143</td>\n",
       "      <td>59.774531</td>\n",
       "      <td>33.333244</td>\n",
       "      <td>35.253933</td>\n",
       "      <td>0.966676</td>\n",
       "      <td>0.877867</td>\n",
       "      <td>128.09447</td>\n",
       "      <td>39.509441</td>\n",
       "      <td>51.685171</td>\n",
       "      <td>...</td>\n",
       "      <td>2.750000</td>\n",
       "      <td>2.800000</td>\n",
       "      <td>2.710806</td>\n",
       "      <td>2.766324</td>\n",
       "      <td>1.373004</td>\n",
       "      <td>1.337712</td>\n",
       "      <td>1</td>\n",
       "      <td>0.500000</td>\n",
       "      <td>0.433013</td>\n",
       "      <td>0.400000</td>\n",
       "    </tr>\n",
       "    <tr>\n",
       "      <th>1</th>\n",
       "      <td>6</td>\n",
       "      <td>82.156483</td>\n",
       "      <td>45.546492</td>\n",
       "      <td>68.911502</td>\n",
       "      <td>33.264949</td>\n",
       "      <td>1.667846</td>\n",
       "      <td>1.606485</td>\n",
       "      <td>124.90825</td>\n",
       "      <td>11.265538</td>\n",
       "      <td>37.507222</td>\n",
       "      <td>...</td>\n",
       "      <td>3.166667</td>\n",
       "      <td>2.192308</td>\n",
       "      <td>2.884499</td>\n",
       "      <td>2.130439</td>\n",
       "      <td>1.694415</td>\n",
       "      <td>1.439960</td>\n",
       "      <td>4</td>\n",
       "      <td>0.984615</td>\n",
       "      <td>1.462494</td>\n",
       "      <td>0.691666</td>\n",
       "    </tr>\n",
       "    <tr>\n",
       "      <th>2</th>\n",
       "      <td>5</td>\n",
       "      <td>63.557790</td>\n",
       "      <td>80.867775</td>\n",
       "      <td>43.121047</td>\n",
       "      <td>66.942841</td>\n",
       "      <td>1.315075</td>\n",
       "      <td>1.118864</td>\n",
       "      <td>125.31630</td>\n",
       "      <td>39.099021</td>\n",
       "      <td>46.911243</td>\n",
       "      <td>...</td>\n",
       "      <td>2.600000</td>\n",
       "      <td>2.165714</td>\n",
       "      <td>2.491462</td>\n",
       "      <td>2.136123</td>\n",
       "      <td>1.564957</td>\n",
       "      <td>1.388270</td>\n",
       "      <td>2</td>\n",
       "      <td>0.788571</td>\n",
       "      <td>0.800000</td>\n",
       "      <td>0.401385</td>\n",
       "    </tr>\n",
       "    <tr>\n",
       "      <th>3</th>\n",
       "      <td>6</td>\n",
       "      <td>107.796145</td>\n",
       "      <td>61.552608</td>\n",
       "      <td>83.859433</td>\n",
       "      <td>39.533227</td>\n",
       "      <td>1.615083</td>\n",
       "      <td>1.698400</td>\n",
       "      <td>184.59060</td>\n",
       "      <td>12.861207</td>\n",
       "      <td>59.742304</td>\n",
       "      <td>...</td>\n",
       "      <td>2.500000</td>\n",
       "      <td>2.138917</td>\n",
       "      <td>2.401874</td>\n",
       "      <td>2.102078</td>\n",
       "      <td>1.748971</td>\n",
       "      <td>1.495383</td>\n",
       "      <td>2</td>\n",
       "      <td>0.916750</td>\n",
       "      <td>0.763763</td>\n",
       "      <td>0.480401</td>\n",
       "    </tr>\n",
       "    <tr>\n",
       "      <th>4</th>\n",
       "      <td>2</td>\n",
       "      <td>145.434735</td>\n",
       "      <td>139.105266</td>\n",
       "      <td>145.288096</td>\n",
       "      <td>139.096555</td>\n",
       "      <td>0.692139</td>\n",
       "      <td>0.084960</td>\n",
       "      <td>13.05853</td>\n",
       "      <td>134.455167</td>\n",
       "      <td>6.529265</td>\n",
       "      <td>...</td>\n",
       "      <td>3.000000</td>\n",
       "      <td>3.000000</td>\n",
       "      <td>3.000000</td>\n",
       "      <td>3.000000</td>\n",
       "      <td>0.693147</td>\n",
       "      <td>0.079135</td>\n",
       "      <td>0</td>\n",
       "      <td>2.908200</td>\n",
       "      <td>0.000000</td>\n",
       "      <td>0.000000</td>\n",
       "    </tr>\n",
       "  </tbody>\n",
       "</table>\n",
       "<p>5 rows × 81 columns</p>\n",
       "</div>"
      ],
      "text/plain": [
       "   number_of_elements  mean_atomic_mass  wtd_mean_atomic_mass  \\\n",
       "0                   4         55.604143             59.774531   \n",
       "1                   6         82.156483             45.546492   \n",
       "2                   5         63.557790             80.867775   \n",
       "3                   6        107.796145             61.552608   \n",
       "4                   2        145.434735            139.105266   \n",
       "\n",
       "   gmean_atomic_mass  wtd_gmean_atomic_mass  entropy_atomic_mass  \\\n",
       "0          33.333244              35.253933             0.966676   \n",
       "1          68.911502              33.264949             1.667846   \n",
       "2          43.121047              66.942841             1.315075   \n",
       "3          83.859433              39.533227             1.615083   \n",
       "4         145.288096             139.096555             0.692139   \n",
       "\n",
       "   wtd_entropy_atomic_mass  range_atomic_mass  wtd_range_atomic_mass  \\\n",
       "0                 0.877867          128.09447              39.509441   \n",
       "1                 1.606485          124.90825              11.265538   \n",
       "2                 1.118864          125.31630              39.099021   \n",
       "3                 1.698400          184.59060              12.861207   \n",
       "4                 0.084960           13.05853             134.455167   \n",
       "\n",
       "   std_atomic_mass  ...  mean_Valence  wtd_mean_Valence  gmean_Valence  \\\n",
       "0        51.685171  ...      2.750000          2.800000       2.710806   \n",
       "1        37.507222  ...      3.166667          2.192308       2.884499   \n",
       "2        46.911243  ...      2.600000          2.165714       2.491462   \n",
       "3        59.742304  ...      2.500000          2.138917       2.401874   \n",
       "4         6.529265  ...      3.000000          3.000000       3.000000   \n",
       "\n",
       "   wtd_gmean_Valence  entropy_Valence  wtd_entropy_Valence  range_Valence  \\\n",
       "0           2.766324         1.373004             1.337712              1   \n",
       "1           2.130439         1.694415             1.439960              4   \n",
       "2           2.136123         1.564957             1.388270              2   \n",
       "3           2.102078         1.748971             1.495383              2   \n",
       "4           3.000000         0.693147             0.079135              0   \n",
       "\n",
       "   wtd_range_Valence  std_Valence  wtd_std_Valence  \n",
       "0           0.500000     0.433013         0.400000  \n",
       "1           0.984615     1.462494         0.691666  \n",
       "2           0.788571     0.800000         0.401385  \n",
       "3           0.916750     0.763763         0.480401  \n",
       "4           2.908200     0.000000         0.000000  \n",
       "\n",
       "[5 rows x 81 columns]"
      ]
     },
     "metadata": {},
     "output_type": "display_data"
    }
   ],
   "source": [
    "import pandas as pd\n",
    "import numpy as np\n",
    "import matplotlib.pyplot as plt\n",
    "\n",
    "# charger les données d'entrainement\n",
    "data = pd.read_csv(\"data_train.csv\").drop(\"Unnamed: 0\", axis=1)\n",
    "print(\"La taille de nos données d'entrainement est \", data.shape)\n",
    "display(data.head())\n",
    "\n",
    "\n",
    "# charger les données de test\n",
    "data_test = pd.read_csv(\"data_test.csv\").drop(\"Unnamed: 0\", axis=1)\n",
    "print(\"La taille de nos données de test est \", data_test.shape)\n",
    "display(data_test.head())"
   ]
  },
  {
   "cell_type": "code",
   "execution_count": 12,
   "metadata": {},
   "outputs": [
    {
     "name": "stdout",
     "output_type": "stream",
     "text": [
      "<class 'pandas.core.frame.DataFrame'>\n",
      "RangeIndex: 15948 entries, 0 to 15947\n",
      "Data columns (total 82 columns):\n",
      " #   Column                           Non-Null Count  Dtype  \n",
      "---  ------                           --------------  -----  \n",
      " 0   number_of_elements               15948 non-null  int64  \n",
      " 1   mean_atomic_mass                 15948 non-null  float64\n",
      " 2   wtd_mean_atomic_mass             15948 non-null  float64\n",
      " 3   gmean_atomic_mass                15948 non-null  float64\n",
      " 4   wtd_gmean_atomic_mass            15948 non-null  float64\n",
      " 5   entropy_atomic_mass              15948 non-null  float64\n",
      " 6   wtd_entropy_atomic_mass          15948 non-null  float64\n",
      " 7   range_atomic_mass                15948 non-null  float64\n",
      " 8   wtd_range_atomic_mass            15948 non-null  float64\n",
      " 9   std_atomic_mass                  15948 non-null  float64\n",
      " 10  wtd_std_atomic_mass              15948 non-null  float64\n",
      " 11  mean_fie                         15948 non-null  float64\n",
      " 12  wtd_mean_fie                     15948 non-null  float64\n",
      " 13  gmean_fie                        15948 non-null  float64\n",
      " 14  wtd_gmean_fie                    15948 non-null  float64\n",
      " 15  entropy_fie                      15948 non-null  float64\n",
      " 16  wtd_entropy_fie                  15948 non-null  float64\n",
      " 17  range_fie                        15948 non-null  float64\n",
      " 18  wtd_range_fie                    15948 non-null  float64\n",
      " 19  std_fie                          15948 non-null  float64\n",
      " 20  wtd_std_fie                      15948 non-null  float64\n",
      " 21  mean_atomic_radius               15948 non-null  float64\n",
      " 22  wtd_mean_atomic_radius           15948 non-null  float64\n",
      " 23  gmean_atomic_radius              15948 non-null  float64\n",
      " 24  wtd_gmean_atomic_radius          15948 non-null  float64\n",
      " 25  entropy_atomic_radius            15948 non-null  float64\n",
      " 26  wtd_entropy_atomic_radius        15948 non-null  float64\n",
      " 27  range_atomic_radius              15948 non-null  int64  \n",
      " 28  wtd_range_atomic_radius          15948 non-null  float64\n",
      " 29  std_atomic_radius                15948 non-null  float64\n",
      " 30  wtd_std_atomic_radius            15948 non-null  float64\n",
      " 31  mean_Density                     15948 non-null  float64\n",
      " 32  wtd_mean_Density                 15948 non-null  float64\n",
      " 33  gmean_Density                    15948 non-null  float64\n",
      " 34  wtd_gmean_Density                15948 non-null  float64\n",
      " 35  entropy_Density                  15948 non-null  float64\n",
      " 36  wtd_entropy_Density              15948 non-null  float64\n",
      " 37  range_Density                    15948 non-null  float64\n",
      " 38  wtd_range_Density                15948 non-null  float64\n",
      " 39  std_Density                      15948 non-null  float64\n",
      " 40  wtd_std_Density                  15948 non-null  float64\n",
      " 41  mean_ElectronAffinity            15948 non-null  float64\n",
      " 42  wtd_mean_ElectronAffinity        15948 non-null  float64\n",
      " 43  gmean_ElectronAffinity           15948 non-null  float64\n",
      " 44  wtd_gmean_ElectronAffinity       15948 non-null  float64\n",
      " 45  entropy_ElectronAffinity         15948 non-null  float64\n",
      " 46  wtd_entropy_ElectronAffinity     15948 non-null  float64\n",
      " 47  range_ElectronAffinity           15948 non-null  float64\n",
      " 48  wtd_range_ElectronAffinity       15948 non-null  float64\n",
      " 49  std_ElectronAffinity             15948 non-null  float64\n",
      " 50  wtd_std_ElectronAffinity         15948 non-null  float64\n",
      " 51  mean_FusionHeat                  15948 non-null  float64\n",
      " 52  wtd_mean_FusionHeat              15948 non-null  float64\n",
      " 53  gmean_FusionHeat                 15948 non-null  float64\n",
      " 54  wtd_gmean_FusionHeat             15948 non-null  float64\n",
      " 55  entropy_FusionHeat               15948 non-null  float64\n",
      " 56  wtd_entropy_FusionHeat           15948 non-null  float64\n",
      " 57  range_FusionHeat                 15948 non-null  float64\n",
      " 58  wtd_range_FusionHeat             15948 non-null  float64\n",
      " 59  std_FusionHeat                   15948 non-null  float64\n",
      " 60  wtd_std_FusionHeat               15948 non-null  float64\n",
      " 61  mean_ThermalConductivity         15948 non-null  float64\n",
      " 62  wtd_mean_ThermalConductivity     15948 non-null  float64\n",
      " 63  gmean_ThermalConductivity        15948 non-null  float64\n",
      " 64  wtd_gmean_ThermalConductivity    15948 non-null  float64\n",
      " 65  entropy_ThermalConductivity      15948 non-null  float64\n",
      " 66  wtd_entropy_ThermalConductivity  15948 non-null  float64\n",
      " 67  range_ThermalConductivity        15948 non-null  float64\n",
      " 68  wtd_range_ThermalConductivity    15948 non-null  float64\n",
      " 69  std_ThermalConductivity          15948 non-null  float64\n",
      " 70  wtd_std_ThermalConductivity      15948 non-null  float64\n",
      " 71  mean_Valence                     15948 non-null  float64\n",
      " 72  wtd_mean_Valence                 15948 non-null  float64\n",
      " 73  gmean_Valence                    15948 non-null  float64\n",
      " 74  wtd_gmean_Valence                15948 non-null  float64\n",
      " 75  entropy_Valence                  15948 non-null  float64\n",
      " 76  wtd_entropy_Valence              15948 non-null  float64\n",
      " 77  range_Valence                    15948 non-null  int64  \n",
      " 78  wtd_range_Valence                15948 non-null  float64\n",
      " 79  std_Valence                      15948 non-null  float64\n",
      " 80  wtd_std_Valence                  15948 non-null  float64\n",
      " 81  critical_temp                    15948 non-null  float64\n",
      "dtypes: float64(79), int64(3)\n",
      "memory usage: 10.0 MB\n"
     ]
    }
   ],
   "source": [
    "#data.describe()\n",
    "data.info()"
   ]
  },
  {
   "cell_type": "markdown",
   "metadata": {},
   "source": [
    "## Split des données "
   ]
  },
  {
   "cell_type": "code",
   "execution_count": 13,
   "metadata": {
    "scrolled": true
   },
   "outputs": [
    {
     "name": "stdout",
     "output_type": "stream",
     "text": [
      "La taille de notre X_train est (15948, 81)\n",
      "La taille de notre y_train est (15948, 1)\n",
      "La taille de notre X_test est (5315, 81)\n"
     ]
    }
   ],
   "source": [
    "X = data.drop(\"critical_temp\", axis=1)\n",
    "y = np.array(data[\"critical_temp\"])\n",
    "y = y.reshape((y.shape[0],1))\n",
    "\n",
    "X_test = data_test\n",
    "\n",
    "print(\"La taille de notre X_train est\", X.shape)\n",
    "print(\"La taille de notre y_train est\", y.shape)\n",
    "print(\"La taille de notre X_test est\", X_test.shape)"
   ]
  },
  {
   "cell_type": "markdown",
   "metadata": {},
   "source": [
    "## Normaliser et standardiser les données"
   ]
  },
  {
   "cell_type": "code",
   "execution_count": 14,
   "metadata": {},
   "outputs": [
    {
     "name": "stdout",
     "output_type": "stream",
     "text": [
      "(81,)\n"
     ]
    }
   ],
   "source": [
    "from sklearn.preprocessing import StandardScaler\n",
    "\n",
    "scaler = StandardScaler()\n",
    "scaler.fit(X)\n",
    "\n",
    "X = scaler.transform(X)\n",
    "X_test = scaler.transform(X_test)\n",
    "\n",
    "print(scaler.mean_.shape)"
   ]
  },
  {
   "cell_type": "markdown",
   "metadata": {},
   "source": [
    "## Appliquer PCA"
   ]
  },
  {
   "cell_type": "code",
   "execution_count": 15,
   "metadata": {
    "scrolled": true
   },
   "outputs": [
    {
     "name": "stdout",
     "output_type": "stream",
     "text": [
      "On a  31 composantes qui nous donne  [0.38800075 0.10527944 0.09555421 0.07970638 0.05889814 0.03821824\n",
      " 0.03609843 0.03106384 0.02357175 0.0196522  0.01809589 0.01471758\n",
      " 0.01178704 0.00998264 0.00986277 0.00774087 0.00716952 0.00538403\n",
      " 0.00484083 0.00380681 0.00302793 0.00285754 0.00254671 0.00206351\n",
      " 0.00196196 0.0018668  0.00169    0.00141821 0.00126717 0.00115492\n",
      " 0.00102486] de variance \n",
      "\n",
      "Les variances de chaque composante est :\n",
      "[0.38800075 0.10527944 0.09555421 0.07970638 0.05889814 0.03821824\n",
      " 0.03609843 0.03106384 0.02357175 0.0196522  0.01809589 0.01471758\n",
      " 0.01178704 0.00998264 0.00986277 0.00774087 0.00716952 0.00538403\n",
      " 0.00484083 0.00380681 0.00302793 0.00285754 0.00254671 0.00206351\n",
      " 0.00196196 0.0018668  0.00169    0.00141821 0.00126717 0.00115492\n",
      " 0.00102486] \n",
      "\n",
      "Les valeurs propres sont :\n",
      "[707.96519196 368.78003588 351.33429518 320.87963444 275.83311498\n",
      " 222.19330465 215.94333569 200.31947254 174.49843201 159.33134921\n",
      " 152.89230859 137.88400482 123.39512096 113.55818044 112.87428127\n",
      "  99.99783746  96.23670048  83.39681973  79.07799347  70.12549582\n",
      "  62.54150456  60.75640695  57.35680428  51.62967433  50.34313293\n",
      "  49.10710691  46.72385589  42.80212802  40.45884929  38.62525129\n",
      "  36.38540861] \n",
      "\n"
     ]
    },
    {
     "data": {
      "text/plain": [
       "'la taille des données après transformation PCA'"
      ]
     },
     "metadata": {},
     "output_type": "display_data"
    },
    {
     "data": {
      "text/plain": [
       "(15948, 31)"
      ]
     },
     "metadata": {},
     "output_type": "display_data"
    },
    {
     "data": {
      "text/plain": [
       "'la taille des données de test après transformation PCA'"
      ]
     },
     "metadata": {},
     "output_type": "display_data"
    },
    {
     "data": {
      "text/plain": [
       "(5315, 31)"
      ]
     },
     "metadata": {},
     "output_type": "display_data"
    },
    {
     "data": {
      "text/plain": [
       "<matplotlib.collections.PathCollection at 0x7fd8dbf03f10>"
      ]
     },
     "execution_count": 15,
     "metadata": {},
     "output_type": "execute_result"
    },
    {
     "data": {
      "image/png": "[encoded data removed]",
      "text/plain": [
       "<Figure size 432x288 with 1 Axes>"
      ]
     },
     "metadata": {
      "needs_background": "light"
     },
     "output_type": "display_data"
    }
   ],
   "source": [
    "from sklearn.decomposition import PCA\n",
    "\n",
    "pca = PCA(n_components=0.99)\n",
    "pca.fit(X)\n",
    "\n",
    "# nombre de composantes \n",
    "print(\"On a \", pca.n_components_, \"composantes qui nous donne \", pca.explained_variance_ratio_, \"de variance \\n\")\n",
    "\n",
    "# variance de chaque composante\n",
    "print(\"Les variances de chaque composante est :\")\n",
    "print(pca.explained_variance_ratio_, \"\\n\")\n",
    "\n",
    "# les valeurs propres\n",
    "print('Les valeurs propres sont :')\n",
    "print(pca.singular_values_, \"\\n\")\n",
    "\n",
    "# Appliquer PCA sur les données dentrainement et de test \n",
    "X = pca.transform(X)\n",
    "display(\"la taille des données après transformation PCA\", X.shape)\n",
    "\n",
    "X_test = pca.transform(X_test)\n",
    "display(\"la taille des données de test après transformation PCA\", X_test.shape)\n",
    "\n",
    "plt.scatter(X[:,0], y)"
   ]
  },
  {
   "cell_type": "markdown",
   "metadata": {},
   "source": [
    "## Machine learning"
   ]
  },
  {
   "cell_type": "markdown",
   "metadata": {},
   "source": [
    "### 1- Regression linéaire"
   ]
  },
  {
   "cell_type": "code",
   "execution_count": 16,
   "metadata": {},
   "outputs": [],
   "source": [
    "from sklearn.model_selection import train_test_split\n",
    "\n",
    "X_train, X_val, y_train, y_val = train_test_split(X, y, test_size=0.33, random_state=42)"
   ]
  },
  {
   "cell_type": "code",
   "execution_count": 17,
   "metadata": {},
   "outputs": [
    {
     "name": "stdout",
     "output_type": "stream",
     "text": [
      "(5263, 1)\n",
      "the mean squared error is :  381.45326997779193\n",
      "score sans cross validation\n",
      "0.6666954418502977 \n",
      "\n",
      "Score avec cross validation\n",
      "0.6993624997824288\n"
     ]
    },
    {
     "data": {
      "text/plain": [
       "[<matplotlib.lines.Line2D at 0x7fd8dc8a2d10>]"
      ]
     },
     "execution_count": 17,
     "metadata": {},
     "output_type": "execute_result"
    },
    {
     "data": {
      "image/png": "[encoded data removed]",
      "text/plain": [
       "<Figure size 432x288 with 1 Axes>"
      ]
     },
     "metadata": {
      "needs_background": "light"
     },
     "output_type": "display_data"
    }
   ],
   "source": [
    "from sklearn.linear_model import LinearRegression\n",
    "from sklearn.model_selection import cross_validate\n",
    "from sklearn.model_selection import cross_val_score\n",
    "\n",
    "from sklearn.metrics import mean_squared_error\n",
    "\n",
    "print(y_val.shape)\n",
    "reg = LinearRegression()\n",
    "reg.fit(X_train, y_train)\n",
    "\n",
    "y_pred = reg.predict(X_val)\n",
    "print(\"the mean squared error is : \", mean_squared_error(y_val, y_pred))\n",
    "\n",
    "print(\"score sans cross validation\")\n",
    "print(reg.score(X_val, y_val), \"\\n\")\n",
    "\n",
    "print(\"Score avec cross validation\")\n",
    "print(cross_val_score(reg, X_train, y_train, cv=5).mean())\n",
    "\n",
    "plt.scatter(y_val, y_pred, color=\"black\")\n",
    "plt.plot(y_val, y_val, color='blue', linewidth=3)\n"
   ]
  },
  {
   "cell_type": "markdown",
   "metadata": {},
   "source": [
    "Nous remarquons que notre modèle linéaire (regression linéaire n'est pas adapter à nos données)"
   ]
  },
  {
   "cell_type": "markdown",
   "metadata": {},
   "source": [
    "### 2- Régression polynomiale"
   ]
  },
  {
   "cell_type": "code",
   "execution_count": 18,
   "metadata": {
    "scrolled": false
   },
   "outputs": [
    {
     "name": "stdout",
     "output_type": "stream",
     "text": [
      "the mean squared error is :  250.65371294422144\n",
      "score sans cross validation\n",
      "0.7809849026951061\n",
      "Score avec cross validation\n",
      "0.8119301705671045\n"
     ]
    },
    {
     "data": {
      "text/plain": [
       "[<matplotlib.lines.Line2D at 0x7fd8dbe353d0>]"
      ]
     },
     "execution_count": 18,
     "metadata": {},
     "output_type": "execute_result"
    },
    {
     "data": {
      "image/png": "[encoded data removed]",
      "text/plain": [
       "<Figure size 432x288 with 1 Axes>"
      ]
     },
     "metadata": {
      "needs_background": "light"
     },
     "output_type": "display_data"
    }
   ],
   "source": [
    "from sklearn.preprocessing import PolynomialFeatures\n",
    "from sklearn.pipeline import make_pipeline\n",
    "from sklearn.linear_model import LinearRegression\n",
    "\n",
    "degree=2\n",
    "polyreg=make_pipeline(PolynomialFeatures(degree),LinearRegression())\n",
    "polyreg.fit(X_train,y_train)\n",
    "\n",
    "y_pred = polyreg.predict(X_val)\n",
    "print(\"the mean squared error is : \", mean_squared_error(y_val, y_pred))\n",
    "\n",
    "print(\"score sans cross validation\")\n",
    "print(polyreg.score(X_val, y_val))\n",
    "\n",
    "print(\"Score avec cross validation\")\n",
    "print(cross_val_score(polyreg, X_train, y_train, cv=10).mean())\n",
    "\n",
    "plt.scatter(y_val, y_pred, color=\"black\")\n",
    "plt.plot(y_val, y_val, color='blue', linewidth=3)"
   ]
  },
  {
   "cell_type": "code",
   "execution_count": 20,
   "metadata": {},
   "outputs": [],
   "source": [
    "scores = []\n",
    "degrees = range(2, 4)\n",
    "for degree in degrees:\n",
    "#     polyreg.append(make_pipeline(PolynomialFeatures(degree),LinearRegression()))\n",
    "    polyregtr = PolynomialFeatures(degree=degree)\n",
    "    X_poly = polyregtr.fit_transform(X_train)\n",
    "    polyreg = LinearRegression()\n",
    "    polyreg.fit(X_poly, y_train)\n",
    "    X_val_transformed = polyregtr.transform(X_val)\n",
    "    y_pred = polyreg.predict(X_val_transformed)\n",
    "    scores.append(mean_squared_error(y_val, y_pred))\n",
    "    \n",
    "    "
   ]
  },
  {
   "cell_type": "code",
   "execution_count": 21,
   "metadata": {},
   "outputs": [
    {
     "data": {
      "text/plain": [
       "<matplotlib.collections.PathCollection at 0x7fd8dbdd8e90>"
      ]
     },
     "execution_count": 21,
     "metadata": {},
     "output_type": "execute_result"
    },
    {
     "data": {
      "image/png": "[encoded data removed]",
      "text/plain": [
       "<Figure size 432x288 with 1 Axes>"
      ]
     },
     "metadata": {
      "needs_background": "light"
     },
     "output_type": "display_data"
    }
   ],
   "source": [
    "plt.scatter(degrees, scores)"
   ]
  },
  {
   "cell_type": "markdown",
   "metadata": {},
   "source": [
    "Nous remarquons que ce modèle est mieux que le modèle de régression linéaire"
   ]
  },
  {
   "cell_type": "markdown",
   "metadata": {},
   "source": [
    "### Smooth splines"
   ]
  },
  {
   "cell_type": "code",
   "execution_count": null,
   "metadata": {},
   "outputs": [],
   "source": []
  }
 ],
 "metadata": {
  "kernelspec": {
   "display_name": "Python 3",
   "language": "python",
   "name": "python3"
  },
  "language_info": {
   "codemirror_mode": {
    "name": "ipython",
    "version": 3
   },
   "file_extension": ".py",
   "mimetype": "text/x-python",
   "name": "python",
   "nbconvert_exporter": "python",
   "pygments_lexer": "ipython3",
   "version": "3.8.3"
  }
 },
 "nbformat": 4,
 "nbformat_minor": 2
}
