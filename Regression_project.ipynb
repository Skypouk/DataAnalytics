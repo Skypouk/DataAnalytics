{
 "cells": [
  {
   "cell_type": "markdown",
   "metadata": {
    "id": "ZmNiLlEzu80Q"
   },
   "source": [
    "# Projet Machine Learning"
   ]
  },
  {
   "cell_type": "markdown",
   "metadata": {
    "id": "i6xzqJL9u80Q"
   },
   "source": [
    "#### Le but de ce projet est de prédir la température critique d'un superconducteur en utilisant 81 variables.\n",
    "NB : problème de régression"
   ]
  },
  {
   "cell_type": "code",
   "execution_count": 28,
   "metadata": {
    "colab": {
     "base_uri": "https://localhost:8080/",
     "height": 508
    },
    "id": "DGM3d6ctu80R",
    "outputId": "4aa598cc-4650-464d-def4-66d376c1b53d",
    "scrolled": false
   },
   "outputs": [
    {
     "name": "stdout",
     "output_type": "stream",
     "text": [
      "La taille de nos données d'entrainement est  (15948, 82)\n"
     ]
    },
    {
     "data": {
      "text/html": [
       "<div>\n",
       "<style scoped>\n",
       "    .dataframe tbody tr th:only-of-type {\n",
       "        vertical-align: middle;\n",
       "    }\n",
       "\n",
       "    .dataframe tbody tr th {\n",
       "        vertical-align: top;\n",
       "    }\n",
       "\n",
       "    .dataframe thead th {\n",
       "        text-align: right;\n",
       "    }\n",
       "</style>\n",
       "<table border=\"1\" class=\"dataframe\">\n",
       "  <thead>\n",
       "    <tr style=\"text-align: right;\">\n",
       "      <th></th>\n",
       "      <th>number_of_elements</th>\n",
       "      <th>mean_atomic_mass</th>\n",
       "      <th>wtd_mean_atomic_mass</th>\n",
       "      <th>gmean_atomic_mass</th>\n",
       "      <th>wtd_gmean_atomic_mass</th>\n",
       "      <th>entropy_atomic_mass</th>\n",
       "      <th>wtd_entropy_atomic_mass</th>\n",
       "      <th>range_atomic_mass</th>\n",
       "      <th>wtd_range_atomic_mass</th>\n",
       "      <th>std_atomic_mass</th>\n",
       "      <th>...</th>\n",
       "      <th>wtd_mean_Valence</th>\n",
       "      <th>gmean_Valence</th>\n",
       "      <th>wtd_gmean_Valence</th>\n",
       "      <th>entropy_Valence</th>\n",
       "      <th>wtd_entropy_Valence</th>\n",
       "      <th>range_Valence</th>\n",
       "      <th>wtd_range_Valence</th>\n",
       "      <th>std_Valence</th>\n",
       "      <th>wtd_std_Valence</th>\n",
       "      <th>critical_temp</th>\n",
       "    </tr>\n",
       "  </thead>\n",
       "  <tbody>\n",
       "    <tr>\n",
       "      <th>0</th>\n",
       "      <td>4</td>\n",
       "      <td>88.944468</td>\n",
       "      <td>57.862692</td>\n",
       "      <td>66.361592</td>\n",
       "      <td>36.116612</td>\n",
       "      <td>1.181795</td>\n",
       "      <td>1.062396</td>\n",
       "      <td>122.90607</td>\n",
       "      <td>31.794921</td>\n",
       "      <td>51.968828</td>\n",
       "      <td>...</td>\n",
       "      <td>2.257143</td>\n",
       "      <td>2.213364</td>\n",
       "      <td>2.219783</td>\n",
       "      <td>1.368922</td>\n",
       "      <td>1.066221</td>\n",
       "      <td>1</td>\n",
       "      <td>1.085714</td>\n",
       "      <td>0.433013</td>\n",
       "      <td>0.437059</td>\n",
       "      <td>29.0</td>\n",
       "    </tr>\n",
       "    <tr>\n",
       "      <th>1</th>\n",
       "      <td>5</td>\n",
       "      <td>92.729214</td>\n",
       "      <td>58.518416</td>\n",
       "      <td>73.132787</td>\n",
       "      <td>36.396602</td>\n",
       "      <td>1.449309</td>\n",
       "      <td>1.057755</td>\n",
       "      <td>122.90607</td>\n",
       "      <td>36.161939</td>\n",
       "      <td>47.094633</td>\n",
       "      <td>...</td>\n",
       "      <td>2.257143</td>\n",
       "      <td>1.888175</td>\n",
       "      <td>2.210679</td>\n",
       "      <td>1.557113</td>\n",
       "      <td>1.047221</td>\n",
       "      <td>2</td>\n",
       "      <td>1.128571</td>\n",
       "      <td>0.632456</td>\n",
       "      <td>0.468606</td>\n",
       "      <td>26.0</td>\n",
       "    </tr>\n",
       "    <tr>\n",
       "      <th>2</th>\n",
       "      <td>4</td>\n",
       "      <td>88.944468</td>\n",
       "      <td>57.885242</td>\n",
       "      <td>66.361592</td>\n",
       "      <td>36.122509</td>\n",
       "      <td>1.181795</td>\n",
       "      <td>0.975980</td>\n",
       "      <td>122.90607</td>\n",
       "      <td>35.741099</td>\n",
       "      <td>51.968828</td>\n",
       "      <td>...</td>\n",
       "      <td>2.271429</td>\n",
       "      <td>2.213364</td>\n",
       "      <td>2.232679</td>\n",
       "      <td>1.368922</td>\n",
       "      <td>1.029175</td>\n",
       "      <td>1</td>\n",
       "      <td>1.114286</td>\n",
       "      <td>0.433013</td>\n",
       "      <td>0.444697</td>\n",
       "      <td>19.0</td>\n",
       "    </tr>\n",
       "    <tr>\n",
       "      <th>3</th>\n",
       "      <td>4</td>\n",
       "      <td>88.944468</td>\n",
       "      <td>57.873967</td>\n",
       "      <td>66.361592</td>\n",
       "      <td>36.119560</td>\n",
       "      <td>1.181795</td>\n",
       "      <td>1.022291</td>\n",
       "      <td>122.90607</td>\n",
       "      <td>33.768010</td>\n",
       "      <td>51.968828</td>\n",
       "      <td>...</td>\n",
       "      <td>2.264286</td>\n",
       "      <td>2.213364</td>\n",
       "      <td>2.226222</td>\n",
       "      <td>1.368922</td>\n",
       "      <td>1.048834</td>\n",
       "      <td>1</td>\n",
       "      <td>1.100000</td>\n",
       "      <td>0.433013</td>\n",
       "      <td>0.440952</td>\n",
       "      <td>22.0</td>\n",
       "    </tr>\n",
       "    <tr>\n",
       "      <th>4</th>\n",
       "      <td>4</td>\n",
       "      <td>88.944468</td>\n",
       "      <td>57.840143</td>\n",
       "      <td>66.361592</td>\n",
       "      <td>36.110716</td>\n",
       "      <td>1.181795</td>\n",
       "      <td>1.129224</td>\n",
       "      <td>122.90607</td>\n",
       "      <td>27.848743</td>\n",
       "      <td>51.968828</td>\n",
       "      <td>...</td>\n",
       "      <td>2.242857</td>\n",
       "      <td>2.213364</td>\n",
       "      <td>2.206963</td>\n",
       "      <td>1.368922</td>\n",
       "      <td>1.096052</td>\n",
       "      <td>1</td>\n",
       "      <td>1.057143</td>\n",
       "      <td>0.433013</td>\n",
       "      <td>0.428809</td>\n",
       "      <td>23.0</td>\n",
       "    </tr>\n",
       "  </tbody>\n",
       "</table>\n",
       "<p>5 rows × 82 columns</p>\n",
       "</div>"
      ],
      "text/plain": [
       "   number_of_elements  mean_atomic_mass  wtd_mean_atomic_mass  \\\n",
       "0                   4         88.944468             57.862692   \n",
       "1                   5         92.729214             58.518416   \n",
       "2                   4         88.944468             57.885242   \n",
       "3                   4         88.944468             57.873967   \n",
       "4                   4         88.944468             57.840143   \n",
       "\n",
       "   gmean_atomic_mass  wtd_gmean_atomic_mass  entropy_atomic_mass  \\\n",
       "0          66.361592              36.116612             1.181795   \n",
       "1          73.132787              36.396602             1.449309   \n",
       "2          66.361592              36.122509             1.181795   \n",
       "3          66.361592              36.119560             1.181795   \n",
       "4          66.361592              36.110716             1.181795   \n",
       "\n",
       "   wtd_entropy_atomic_mass  range_atomic_mass  wtd_range_atomic_mass  \\\n",
       "0                 1.062396          122.90607              31.794921   \n",
       "1                 1.057755          122.90607              36.161939   \n",
       "2                 0.975980          122.90607              35.741099   \n",
       "3                 1.022291          122.90607              33.768010   \n",
       "4                 1.129224          122.90607              27.848743   \n",
       "\n",
       "   std_atomic_mass  ...  wtd_mean_Valence  gmean_Valence  wtd_gmean_Valence  \\\n",
       "0        51.968828  ...          2.257143       2.213364           2.219783   \n",
       "1        47.094633  ...          2.257143       1.888175           2.210679   \n",
       "2        51.968828  ...          2.271429       2.213364           2.232679   \n",
       "3        51.968828  ...          2.264286       2.213364           2.226222   \n",
       "4        51.968828  ...          2.242857       2.213364           2.206963   \n",
       "\n",
       "   entropy_Valence  wtd_entropy_Valence  range_Valence  wtd_range_Valence  \\\n",
       "0         1.368922             1.066221              1           1.085714   \n",
       "1         1.557113             1.047221              2           1.128571   \n",
       "2         1.368922             1.029175              1           1.114286   \n",
       "3         1.368922             1.048834              1           1.100000   \n",
       "4         1.368922             1.096052              1           1.057143   \n",
       "\n",
       "   std_Valence  wtd_std_Valence  critical_temp  \n",
       "0     0.433013         0.437059           29.0  \n",
       "1     0.632456         0.468606           26.0  \n",
       "2     0.433013         0.444697           19.0  \n",
       "3     0.433013         0.440952           22.0  \n",
       "4     0.433013         0.428809           23.0  \n",
       "\n",
       "[5 rows x 82 columns]"
      ]
     },
     "metadata": {},
     "output_type": "display_data"
    },
    {
     "name": "stdout",
     "output_type": "stream",
     "text": [
      "La taille de nos données de test est  (5315, 81)\n"
     ]
    },
    {
     "data": {
      "text/html": [
       "<div>\n",
       "<style scoped>\n",
       "    .dataframe tbody tr th:only-of-type {\n",
       "        vertical-align: middle;\n",
       "    }\n",
       "\n",
       "    .dataframe tbody tr th {\n",
       "        vertical-align: top;\n",
       "    }\n",
       "\n",
       "    .dataframe thead th {\n",
       "        text-align: right;\n",
       "    }\n",
       "</style>\n",
       "<table border=\"1\" class=\"dataframe\">\n",
       "  <thead>\n",
       "    <tr style=\"text-align: right;\">\n",
       "      <th></th>\n",
       "      <th>number_of_elements</th>\n",
       "      <th>mean_atomic_mass</th>\n",
       "      <th>wtd_mean_atomic_mass</th>\n",
       "      <th>gmean_atomic_mass</th>\n",
       "      <th>wtd_gmean_atomic_mass</th>\n",
       "      <th>entropy_atomic_mass</th>\n",
       "      <th>wtd_entropy_atomic_mass</th>\n",
       "      <th>range_atomic_mass</th>\n",
       "      <th>wtd_range_atomic_mass</th>\n",
       "      <th>std_atomic_mass</th>\n",
       "      <th>...</th>\n",
       "      <th>mean_Valence</th>\n",
       "      <th>wtd_mean_Valence</th>\n",
       "      <th>gmean_Valence</th>\n",
       "      <th>wtd_gmean_Valence</th>\n",
       "      <th>entropy_Valence</th>\n",
       "      <th>wtd_entropy_Valence</th>\n",
       "      <th>range_Valence</th>\n",
       "      <th>wtd_range_Valence</th>\n",
       "      <th>std_Valence</th>\n",
       "      <th>wtd_std_Valence</th>\n",
       "    </tr>\n",
       "  </thead>\n",
       "  <tbody>\n",
       "    <tr>\n",
       "      <th>0</th>\n",
       "      <td>4</td>\n",
       "      <td>55.604143</td>\n",
       "      <td>59.774531</td>\n",
       "      <td>33.333244</td>\n",
       "      <td>35.253933</td>\n",
       "      <td>0.966676</td>\n",
       "      <td>0.877867</td>\n",
       "      <td>128.09447</td>\n",
       "      <td>39.509441</td>\n",
       "      <td>51.685171</td>\n",
       "      <td>...</td>\n",
       "      <td>2.750000</td>\n",
       "      <td>2.800000</td>\n",
       "      <td>2.710806</td>\n",
       "      <td>2.766324</td>\n",
       "      <td>1.373004</td>\n",
       "      <td>1.337712</td>\n",
       "      <td>1</td>\n",
       "      <td>0.500000</td>\n",
       "      <td>0.433013</td>\n",
       "      <td>0.400000</td>\n",
       "    </tr>\n",
       "    <tr>\n",
       "      <th>1</th>\n",
       "      <td>6</td>\n",
       "      <td>82.156483</td>\n",
       "      <td>45.546492</td>\n",
       "      <td>68.911502</td>\n",
       "      <td>33.264949</td>\n",
       "      <td>1.667846</td>\n",
       "      <td>1.606485</td>\n",
       "      <td>124.90825</td>\n",
       "      <td>11.265538</td>\n",
       "      <td>37.507222</td>\n",
       "      <td>...</td>\n",
       "      <td>3.166667</td>\n",
       "      <td>2.192308</td>\n",
       "      <td>2.884499</td>\n",
       "      <td>2.130439</td>\n",
       "      <td>1.694415</td>\n",
       "      <td>1.439960</td>\n",
       "      <td>4</td>\n",
       "      <td>0.984615</td>\n",
       "      <td>1.462494</td>\n",
       "      <td>0.691666</td>\n",
       "    </tr>\n",
       "    <tr>\n",
       "      <th>2</th>\n",
       "      <td>5</td>\n",
       "      <td>63.557790</td>\n",
       "      <td>80.867775</td>\n",
       "      <td>43.121047</td>\n",
       "      <td>66.942841</td>\n",
       "      <td>1.315075</td>\n",
       "      <td>1.118864</td>\n",
       "      <td>125.31630</td>\n",
       "      <td>39.099021</td>\n",
       "      <td>46.911243</td>\n",
       "      <td>...</td>\n",
       "      <td>2.600000</td>\n",
       "      <td>2.165714</td>\n",
       "      <td>2.491462</td>\n",
       "      <td>2.136123</td>\n",
       "      <td>1.564957</td>\n",
       "      <td>1.388270</td>\n",
       "      <td>2</td>\n",
       "      <td>0.788571</td>\n",
       "      <td>0.800000</td>\n",
       "      <td>0.401385</td>\n",
       "    </tr>\n",
       "    <tr>\n",
       "      <th>3</th>\n",
       "      <td>6</td>\n",
       "      <td>107.796145</td>\n",
       "      <td>61.552608</td>\n",
       "      <td>83.859433</td>\n",
       "      <td>39.533227</td>\n",
       "      <td>1.615083</td>\n",
       "      <td>1.698400</td>\n",
       "      <td>184.59060</td>\n",
       "      <td>12.861207</td>\n",
       "      <td>59.742304</td>\n",
       "      <td>...</td>\n",
       "      <td>2.500000</td>\n",
       "      <td>2.138917</td>\n",
       "      <td>2.401874</td>\n",
       "      <td>2.102078</td>\n",
       "      <td>1.748971</td>\n",
       "      <td>1.495383</td>\n",
       "      <td>2</td>\n",
       "      <td>0.916750</td>\n",
       "      <td>0.763763</td>\n",
       "      <td>0.480401</td>\n",
       "    </tr>\n",
       "    <tr>\n",
       "      <th>4</th>\n",
       "      <td>2</td>\n",
       "      <td>145.434735</td>\n",
       "      <td>139.105266</td>\n",
       "      <td>145.288096</td>\n",
       "      <td>139.096555</td>\n",
       "      <td>0.692139</td>\n",
       "      <td>0.084960</td>\n",
       "      <td>13.05853</td>\n",
       "      <td>134.455167</td>\n",
       "      <td>6.529265</td>\n",
       "      <td>...</td>\n",
       "      <td>3.000000</td>\n",
       "      <td>3.000000</td>\n",
       "      <td>3.000000</td>\n",
       "      <td>3.000000</td>\n",
       "      <td>0.693147</td>\n",
       "      <td>0.079135</td>\n",
       "      <td>0</td>\n",
       "      <td>2.908200</td>\n",
       "      <td>0.000000</td>\n",
       "      <td>0.000000</td>\n",
       "    </tr>\n",
       "  </tbody>\n",
       "</table>\n",
       "<p>5 rows × 81 columns</p>\n",
       "</div>"
      ],
      "text/plain": [
       "   number_of_elements  mean_atomic_mass  wtd_mean_atomic_mass  \\\n",
       "0                   4         55.604143             59.774531   \n",
       "1                   6         82.156483             45.546492   \n",
       "2                   5         63.557790             80.867775   \n",
       "3                   6        107.796145             61.552608   \n",
       "4                   2        145.434735            139.105266   \n",
       "\n",
       "   gmean_atomic_mass  wtd_gmean_atomic_mass  entropy_atomic_mass  \\\n",
       "0          33.333244              35.253933             0.966676   \n",
       "1          68.911502              33.264949             1.667846   \n",
       "2          43.121047              66.942841             1.315075   \n",
       "3          83.859433              39.533227             1.615083   \n",
       "4         145.288096             139.096555             0.692139   \n",
       "\n",
       "   wtd_entropy_atomic_mass  range_atomic_mass  wtd_range_atomic_mass  \\\n",
       "0                 0.877867          128.09447              39.509441   \n",
       "1                 1.606485          124.90825              11.265538   \n",
       "2                 1.118864          125.31630              39.099021   \n",
       "3                 1.698400          184.59060              12.861207   \n",
       "4                 0.084960           13.05853             134.455167   \n",
       "\n",
       "   std_atomic_mass  ...  mean_Valence  wtd_mean_Valence  gmean_Valence  \\\n",
       "0        51.685171  ...      2.750000          2.800000       2.710806   \n",
       "1        37.507222  ...      3.166667          2.192308       2.884499   \n",
       "2        46.911243  ...      2.600000          2.165714       2.491462   \n",
       "3        59.742304  ...      2.500000          2.138917       2.401874   \n",
       "4         6.529265  ...      3.000000          3.000000       3.000000   \n",
       "\n",
       "   wtd_gmean_Valence  entropy_Valence  wtd_entropy_Valence  range_Valence  \\\n",
       "0           2.766324         1.373004             1.337712              1   \n",
       "1           2.130439         1.694415             1.439960              4   \n",
       "2           2.136123         1.564957             1.388270              2   \n",
       "3           2.102078         1.748971             1.495383              2   \n",
       "4           3.000000         0.693147             0.079135              0   \n",
       "\n",
       "   wtd_range_Valence  std_Valence  wtd_std_Valence  \n",
       "0           0.500000     0.433013         0.400000  \n",
       "1           0.984615     1.462494         0.691666  \n",
       "2           0.788571     0.800000         0.401385  \n",
       "3           0.916750     0.763763         0.480401  \n",
       "4           2.908200     0.000000         0.000000  \n",
       "\n",
       "[5 rows x 81 columns]"
      ]
     },
     "metadata": {},
     "output_type": "display_data"
    }
   ],
   "source": [
    "import pandas as pd\n",
    "import numpy as np\n",
    "import matplotlib.pyplot as plt\n",
    "\n",
    "# charger les données d'entrainement\n",
    "data = pd.read_csv(\"data_train.csv\").drop(\"Unnamed: 0\", axis=1)\n",
    "print(\"La taille de nos données d'entrainement est \", data.shape)\n",
    "display(data.head())\n",
    "\n",
    "\n",
    "# charger les données de test\n",
    "data_test = pd.read_csv(\"data_test.csv\").drop(\"Unnamed: 0\", axis=1)\n",
    "print(\"La taille de nos données de test est \", data_test.shape)\n",
    "display(data_test.head())"
   ]
  },
  {
   "cell_type": "code",
   "execution_count": 29,
   "metadata": {
    "colab": {
     "base_uri": "https://localhost:8080/"
    },
    "id": "RdKyye79u80U",
    "outputId": "e4a151b1-2379-436c-f18b-cca3e6d52c97"
   },
   "outputs": [
    {
     "name": "stdout",
     "output_type": "stream",
     "text": [
      "<class 'pandas.core.frame.DataFrame'>\n",
      "RangeIndex: 15948 entries, 0 to 15947\n",
      "Data columns (total 82 columns):\n",
      " #   Column                           Non-Null Count  Dtype  \n",
      "---  ------                           --------------  -----  \n",
      " 0   number_of_elements               15948 non-null  int64  \n",
      " 1   mean_atomic_mass                 15948 non-null  float64\n",
      " 2   wtd_mean_atomic_mass             15948 non-null  float64\n",
      " 3   gmean_atomic_mass                15948 non-null  float64\n",
      " 4   wtd_gmean_atomic_mass            15948 non-null  float64\n",
      " 5   entropy_atomic_mass              15948 non-null  float64\n",
      " 6   wtd_entropy_atomic_mass          15948 non-null  float64\n",
      " 7   range_atomic_mass                15948 non-null  float64\n",
      " 8   wtd_range_atomic_mass            15948 non-null  float64\n",
      " 9   std_atomic_mass                  15948 non-null  float64\n",
      " 10  wtd_std_atomic_mass              15948 non-null  float64\n",
      " 11  mean_fie                         15948 non-null  float64\n",
      " 12  wtd_mean_fie                     15948 non-null  float64\n",
      " 13  gmean_fie                        15948 non-null  float64\n",
      " 14  wtd_gmean_fie                    15948 non-null  float64\n",
      " 15  entropy_fie                      15948 non-null  float64\n",
      " 16  wtd_entropy_fie                  15948 non-null  float64\n",
      " 17  range_fie                        15948 non-null  float64\n",
      " 18  wtd_range_fie                    15948 non-null  float64\n",
      " 19  std_fie                          15948 non-null  float64\n",
      " 20  wtd_std_fie                      15948 non-null  float64\n",
      " 21  mean_atomic_radius               15948 non-null  float64\n",
      " 22  wtd_mean_atomic_radius           15948 non-null  float64\n",
      " 23  gmean_atomic_radius              15948 non-null  float64\n",
      " 24  wtd_gmean_atomic_radius          15948 non-null  float64\n",
      " 25  entropy_atomic_radius            15948 non-null  float64\n",
      " 26  wtd_entropy_atomic_radius        15948 non-null  float64\n",
      " 27  range_atomic_radius              15948 non-null  int64  \n",
      " 28  wtd_range_atomic_radius          15948 non-null  float64\n",
      " 29  std_atomic_radius                15948 non-null  float64\n",
      " 30  wtd_std_atomic_radius            15948 non-null  float64\n",
      " 31  mean_Density                     15948 non-null  float64\n",
      " 32  wtd_mean_Density                 15948 non-null  float64\n",
      " 33  gmean_Density                    15948 non-null  float64\n",
      " 34  wtd_gmean_Density                15948 non-null  float64\n",
      " 35  entropy_Density                  15948 non-null  float64\n",
      " 36  wtd_entropy_Density              15948 non-null  float64\n",
      " 37  range_Density                    15948 non-null  float64\n",
      " 38  wtd_range_Density                15948 non-null  float64\n",
      " 39  std_Density                      15948 non-null  float64\n",
      " 40  wtd_std_Density                  15948 non-null  float64\n",
      " 41  mean_ElectronAffinity            15948 non-null  float64\n",
      " 42  wtd_mean_ElectronAffinity        15948 non-null  float64\n",
      " 43  gmean_ElectronAffinity           15948 non-null  float64\n",
      " 44  wtd_gmean_ElectronAffinity       15948 non-null  float64\n",
      " 45  entropy_ElectronAffinity         15948 non-null  float64\n",
      " 46  wtd_entropy_ElectronAffinity     15948 non-null  float64\n",
      " 47  range_ElectronAffinity           15948 non-null  float64\n",
      " 48  wtd_range_ElectronAffinity       15948 non-null  float64\n",
      " 49  std_ElectronAffinity             15948 non-null  float64\n",
      " 50  wtd_std_ElectronAffinity         15948 non-null  float64\n",
      " 51  mean_FusionHeat                  15948 non-null  float64\n",
      " 52  wtd_mean_FusionHeat              15948 non-null  float64\n",
      " 53  gmean_FusionHeat                 15948 non-null  float64\n",
      " 54  wtd_gmean_FusionHeat             15948 non-null  float64\n",
      " 55  entropy_FusionHeat               15948 non-null  float64\n",
      " 56  wtd_entropy_FusionHeat           15948 non-null  float64\n",
      " 57  range_FusionHeat                 15948 non-null  float64\n",
      " 58  wtd_range_FusionHeat             15948 non-null  float64\n",
      " 59  std_FusionHeat                   15948 non-null  float64\n",
      " 60  wtd_std_FusionHeat               15948 non-null  float64\n",
      " 61  mean_ThermalConductivity         15948 non-null  float64\n",
      " 62  wtd_mean_ThermalConductivity     15948 non-null  float64\n",
      " 63  gmean_ThermalConductivity        15948 non-null  float64\n",
      " 64  wtd_gmean_ThermalConductivity    15948 non-null  float64\n",
      " 65  entropy_ThermalConductivity      15948 non-null  float64\n",
      " 66  wtd_entropy_ThermalConductivity  15948 non-null  float64\n",
      " 67  range_ThermalConductivity        15948 non-null  float64\n",
      " 68  wtd_range_ThermalConductivity    15948 non-null  float64\n",
      " 69  std_ThermalConductivity          15948 non-null  float64\n",
      " 70  wtd_std_ThermalConductivity      15948 non-null  float64\n",
      " 71  mean_Valence                     15948 non-null  float64\n",
      " 72  wtd_mean_Valence                 15948 non-null  float64\n",
      " 73  gmean_Valence                    15948 non-null  float64\n",
      " 74  wtd_gmean_Valence                15948 non-null  float64\n",
      " 75  entropy_Valence                  15948 non-null  float64\n",
      " 76  wtd_entropy_Valence              15948 non-null  float64\n",
      " 77  range_Valence                    15948 non-null  int64  \n",
      " 78  wtd_range_Valence                15948 non-null  float64\n",
      " 79  std_Valence                      15948 non-null  float64\n",
      " 80  wtd_std_Valence                  15948 non-null  float64\n",
      " 81  critical_temp                    15948 non-null  float64\n",
      "dtypes: float64(79), int64(3)\n",
      "memory usage: 10.0 MB\n"
     ]
    }
   ],
   "source": [
    "data.info()"
   ]
  },
  {
   "cell_type": "markdown",
   "metadata": {
    "id": "OgIfCdJHu80U"
   },
   "source": [
    "## Séparation des données "
   ]
  },
  {
   "cell_type": "markdown",
   "metadata": {},
   "source": [
    "On sépare les données en données d'entrainement et de test"
   ]
  },
  {
   "cell_type": "code",
   "execution_count": 30,
   "metadata": {
    "colab": {
     "base_uri": "https://localhost:8080/"
    },
    "id": "B-bERPoou80U",
    "outputId": "88fd664f-ce61-4f84-ff1f-b874b2c22c28",
    "scrolled": true
   },
   "outputs": [
    {
     "name": "stdout",
     "output_type": "stream",
     "text": [
      "(15948, 81)\n",
      "(15948, 1)\n",
      "La taille de notre X_train est (15948, 81)\n",
      "La taille de notre y_train est (15948, 1)\n",
      "La taille de notre X_test est (5315, 81)\n"
     ]
    }
   ],
   "source": [
    "X = data.drop(\"critical_temp\", axis=1)\n",
    "Y = pd.DataFrame(data = data[\"critical_temp\"])\n",
    "\n",
    "print(X.shape)\n",
    "print(Y.shape)\n",
    "\n",
    "X_test = data_test\n",
    "\n",
    "print(\"La taille de notre X_train est\", X.shape)\n",
    "print(\"La taille de notre y_train est\", Y.shape)\n",
    "print(\"La taille de notre X_test est\", X_test.shape)"
   ]
  },
  {
   "cell_type": "markdown",
   "metadata": {},
   "source": [
    "### Normaliser et standardiser les données"
   ]
  },
  {
   "cell_type": "code",
   "execution_count": 31,
   "metadata": {},
   "outputs": [
    {
     "name": "stdout",
     "output_type": "stream",
     "text": [
      "(81,)\n"
     ]
    }
   ],
   "source": [
    "from sklearn.preprocessing import StandardScaler\n",
    "\n",
    "scaler = StandardScaler()\n",
    "scaler.fit(X)\n",
    "\n",
    "X = scaler.transform(X)\n",
    "#X_test = scaler.transform(X_test)\n",
    "\n",
    "print(scaler.mean_.shape)"
   ]
  },
  {
   "cell_type": "markdown",
   "metadata": {},
   "source": [
    "## Test de plusieurs models\n",
    "On applique le PCA sur les données avant de les transférer à ces models"
   ]
  },
  {
   "cell_type": "markdown",
   "metadata": {},
   "source": [
    "### Appliquer PCA sur les données d'entrainement et de test"
   ]
  },
  {
   "cell_type": "code",
   "execution_count": 32,
   "metadata": {},
   "outputs": [
    {
     "name": "stdout",
     "output_type": "stream",
     "text": [
      "On a  31 composantes qui nous donne  [0.38800075 0.10527944 0.09555421 0.07970638 0.05889814 0.03821824\n",
      " 0.03609843 0.03106384 0.02357175 0.0196522  0.01809589 0.01471758\n",
      " 0.01178704 0.00998264 0.00986277 0.00774087 0.00716952 0.00538403\n",
      " 0.00484083 0.00380681 0.00302793 0.00285754 0.00254671 0.00206351\n",
      " 0.00196196 0.0018668  0.00169    0.00141821 0.00126717 0.00115492\n",
      " 0.00102486] de variance \n",
      "\n",
      "Les variances de chaque composante est :\n",
      "[0.38800075 0.10527944 0.09555421 0.07970638 0.05889814 0.03821824\n",
      " 0.03609843 0.03106384 0.02357175 0.0196522  0.01809589 0.01471758\n",
      " 0.01178704 0.00998264 0.00986277 0.00774087 0.00716952 0.00538403\n",
      " 0.00484083 0.00380681 0.00302793 0.00285754 0.00254671 0.00206351\n",
      " 0.00196196 0.0018668  0.00169    0.00141821 0.00126717 0.00115492\n",
      " 0.00102486] \n",
      "\n",
      "Les valeurs propres sont :\n",
      "[707.96519196 368.78003588 351.33429518 320.87963444 275.83311498\n",
      " 222.19330465 215.94333569 200.31947254 174.49843201 159.33134921\n",
      " 152.89230859 137.88400482 123.39512096 113.55818044 112.87428127\n",
      "  99.99783746  96.23670048  83.39681973  79.07799347  70.12549582\n",
      "  62.54150456  60.75640695  57.35680428  51.62967433  50.34313293\n",
      "  49.10710691  46.72385589  42.80212802  40.45884929  38.62525129\n",
      "  36.38540861] \n",
      "\n"
     ]
    },
    {
     "data": {
      "text/plain": [
       "'la taille des données après transformation PCA'"
      ]
     },
     "metadata": {},
     "output_type": "display_data"
    },
    {
     "data": {
      "text/plain": [
       "(15948, 31)"
      ]
     },
     "metadata": {},
     "output_type": "display_data"
    }
   ],
   "source": [
    "from sklearn.decomposition import PCA\n",
    "\n",
    "pca = PCA(n_components=0.99)\n",
    "pca.fit(X)\n",
    "\n",
    "# nombre de composantes \n",
    "print(\"On a \", pca.n_components_, \"composantes qui nous donne \", pca.explained_variance_ratio_, \"de variance \\n\")\n",
    "\n",
    "# variance de chaque composante\n",
    "print(\"Les variances de chaque composante est :\")\n",
    "print(pca.explained_variance_ratio_, \"\\n\")\n",
    "\n",
    "# les valeurs propres\n",
    "print('Les valeurs propres sont :')\n",
    "print(pca.singular_values_, \"\\n\")\n",
    "\n",
    "# Appliquer PCA sur les données d'entrainement et de test \n",
    "X = pca.transform(X)\n",
    "display(\"la taille des données après transformation PCA\", X.shape)\n",
    "\n",
    "#X_test = pca.transform(X_test)\n",
    "#display(\"la taille des données de test après transformation PCA\", X_test.shape)"
   ]
  },
  {
   "cell_type": "markdown",
   "metadata": {},
   "source": [
    "### Visualisation des données\n",
    "Affichage des températures critiques en fonction de la première composante"
   ]
  },
  {
   "cell_type": "code",
   "execution_count": 33,
   "metadata": {},
   "outputs": [
    {
     "name": "stdout",
     "output_type": "stream",
     "text": [
      "['0', '1', '2', '3', '4', '5', '6', '7', '8', '9', '10', '11', '12', '13', '14', '15', '16', '17', '18', '19', '20', '21', '22', '23', '24', '25', '26', '27', '28', '29', '30']\n"
     ]
    },
    {
     "data": {
      "text/plain": [
       "<matplotlib.axes._subplots.AxesSubplot at 0x7ff2b0452940>"
      ]
     },
     "execution_count": 33,
     "metadata": {},
     "output_type": "execute_result"
    },
    {
     "data": {
      "image/png": "[encoded data removed]",
      "text/plain": [
       "<Figure size 432x288 with 1 Axes>"
      ]
     },
     "metadata": {
      "needs_background": "light"
     },
     "output_type": "display_data"
    }
   ],
   "source": [
    "import seaborn as sns\n",
    "\n",
    "col_names = []\n",
    "for i in range(31):\n",
    "    col_names.append(str(i))\n",
    "print(col_names)\n",
    "df_train = pd.DataFrame(X, columns = col_names)\n",
    "df_train['target'] = Y\n",
    "sns.scatterplot(data=df_train, x=\"0\", y=\"target\")"
   ]
  },
  {
   "cell_type": "markdown",
   "metadata": {},
   "source": [
    "### Séparation des données d'entraînement en données d'entraînement et de validation"
   ]
  },
  {
   "cell_type": "code",
   "execution_count": 34,
   "metadata": {},
   "outputs": [],
   "source": [
    "from sklearn.model_selection import train_test_split\n",
    "\n",
    "X_train, X_val, Y_train, Y_val = train_test_split(X, Y, test_size=0.25, random_state=42)"
   ]
  },
  {
   "cell_type": "markdown",
   "metadata": {},
   "source": [
    "### Réseau de neuronnes"
   ]
  },
  {
   "cell_type": "markdown",
   "metadata": {},
   "source": [
    "Construction et compilation du model"
   ]
  },
  {
   "cell_type": "code",
   "execution_count": 35,
   "metadata": {},
   "outputs": [],
   "source": [
    "from keras.callbacks import ModelCheckpoint\n",
    "from keras.models import Sequential\n",
    "from keras.layers import Dense, Activation, Flatten\n",
    "from sklearn.model_selection import train_test_split\n",
    "from sklearn.model_selection import cross_val_predict, cross_val_score\n",
    "from sklearn.metrics import mean_absolute_error, mean_squared_error\n",
    "from matplotlib import pyplot as plt\n",
    "import seaborn as sb\n",
    "import matplotlib.pyplot as plt\n",
    "import pandas as pd\n",
    "import numpy as np\n",
    "import warnings \n",
    "warnings.filterwarnings('ignore')\n",
    "warnings.filterwarnings('ignore', category=DeprecationWarning)"
   ]
  },
  {
   "cell_type": "code",
   "execution_count": 36,
   "metadata": {},
   "outputs": [
    {
     "name": "stdout",
     "output_type": "stream",
     "text": [
      "Model: \"sequential_1\"\n",
      "_________________________________________________________________\n",
      "Layer (type)                 Output Shape              Param #   \n",
      "=================================================================\n",
      "dense_5 (Dense)              (None, 128)               4096      \n",
      "_________________________________________________________________\n",
      "dense_6 (Dense)              (None, 256)               33024     \n",
      "_________________________________________________________________\n",
      "dense_7 (Dense)              (None, 256)               65792     \n",
      "_________________________________________________________________\n",
      "dense_8 (Dense)              (None, 256)               65792     \n",
      "_________________________________________________________________\n",
      "dense_9 (Dense)              (None, 1)                 257       \n",
      "=================================================================\n",
      "Total params: 168,961\n",
      "Trainable params: 168,961\n",
      "Non-trainable params: 0\n",
      "_________________________________________________________________\n"
     ]
    }
   ],
   "source": [
    "NN_model = Sequential()\n",
    "NN_model.add(Dense(128, kernel_initializer='normal',input_dim = X_train.shape[1], activation='relu'))\n",
    "\n",
    "NN_model.add(Dense(256, kernel_initializer='normal',activation='relu'))\n",
    "NN_model.add(Dense(256, kernel_initializer='normal',activation='relu'))\n",
    "NN_model.add(Dense(256, kernel_initializer='normal',activation='relu'))\n",
    "\n",
    "NN_model.add(Dense(1, kernel_initializer='normal',activation='linear'))\n",
    "\n",
    "NN_model.compile(loss='mean_squared_error', optimizer='adam', metrics=['mean_squared_error'])\n",
    "NN_model.summary()"
   ]
  },
  {
   "cell_type": "markdown",
   "metadata": {},
   "source": [
    "Definition du callback, ce fichier enregistra les poids du model ayant la meilleur performance, car nous avons utiliser l'option save_best_only de la fonction ModelCheckpoint.."
   ]
  },
  {
   "cell_type": "code",
   "execution_count": 37,
   "metadata": {},
   "outputs": [],
   "source": [
    "checkpoint_name = 'Best-Weights.hdf5' \n",
    "checkpoint = ModelCheckpoint(checkpoint_name, monitor='val_loss', verbose = 1, save_best_only = True, mode ='auto')\n",
    "callbacks_list = [checkpoint]"
   ]
  },
  {
   "cell_type": "markdown",
   "metadata": {},
   "source": [
    "Entraîner le model"
   ]
  },
  {
   "cell_type": "code",
   "execution_count": 38,
   "metadata": {},
   "outputs": [
    {
     "name": "stdout",
     "output_type": "stream",
     "text": [
      "Epoch 1/10\n",
      "150/150 [==============================] - 1s 3ms/step - loss: 1061.5540 - mean_squared_error: 1061.5540 - val_loss: 238.6041 - val_mean_squared_error: 238.6041\n",
      "\n",
      "Epoch 00001: val_loss improved from inf to 238.60411, saving model to Best-Weights.hdf5\n",
      "Epoch 2/10\n",
      "150/150 [==============================] - 0s 2ms/step - loss: 260.6822 - mean_squared_error: 260.6822 - val_loss: 219.4034 - val_mean_squared_error: 219.4034\n",
      "\n",
      "Epoch 00002: val_loss improved from 238.60411 to 219.40337, saving model to Best-Weights.hdf5\n",
      "Epoch 3/10\n",
      "150/150 [==============================] - 0s 2ms/step - loss: 228.0326 - mean_squared_error: 228.0326 - val_loss: 237.1079 - val_mean_squared_error: 237.1079\n",
      "\n",
      "Epoch 00003: val_loss did not improve from 219.40337\n",
      "Epoch 4/10\n",
      "150/150 [==============================] - 0s 2ms/step - loss: 211.2941 - mean_squared_error: 211.2941 - val_loss: 194.6367 - val_mean_squared_error: 194.6367\n",
      "\n",
      "Epoch 00004: val_loss improved from 219.40337 to 194.63675, saving model to Best-Weights.hdf5\n",
      "Epoch 5/10\n",
      "150/150 [==============================] - 0s 2ms/step - loss: 201.1734 - mean_squared_error: 201.1734 - val_loss: 206.1850 - val_mean_squared_error: 206.1850\n",
      "\n",
      "Epoch 00005: val_loss did not improve from 194.63675\n",
      "Epoch 6/10\n",
      "150/150 [==============================] - 0s 2ms/step - loss: 189.1979 - mean_squared_error: 189.1979 - val_loss: 178.8572 - val_mean_squared_error: 178.8572\n",
      "\n",
      "Epoch 00006: val_loss improved from 194.63675 to 178.85721, saving model to Best-Weights.hdf5\n",
      "Epoch 7/10\n",
      "150/150 [==============================] - 0s 2ms/step - loss: 174.8795 - mean_squared_error: 174.8795 - val_loss: 206.1842 - val_mean_squared_error: 206.1842\n",
      "\n",
      "Epoch 00007: val_loss did not improve from 178.85721\n",
      "Epoch 8/10\n",
      "150/150 [==============================] - 0s 2ms/step - loss: 175.1281 - mean_squared_error: 175.1281 - val_loss: 170.6148 - val_mean_squared_error: 170.6148\n",
      "\n",
      "Epoch 00008: val_loss improved from 178.85721 to 170.61484, saving model to Best-Weights.hdf5\n",
      "Epoch 9/10\n",
      "150/150 [==============================] - 0s 2ms/step - loss: 159.6708 - mean_squared_error: 159.6708 - val_loss: 163.1857 - val_mean_squared_error: 163.1857\n",
      "\n",
      "Epoch 00009: val_loss improved from 170.61484 to 163.18568, saving model to Best-Weights.hdf5\n",
      "Epoch 10/10\n",
      "150/150 [==============================] - 0s 2ms/step - loss: 161.4421 - mean_squared_error: 161.4421 - val_loss: 159.7858 - val_mean_squared_error: 159.7858\n",
      "\n",
      "Epoch 00010: val_loss improved from 163.18568 to 159.78584, saving model to Best-Weights.hdf5\n"
     ]
    },
    {
     "data": {
      "text/plain": [
       "<tensorflow.python.keras.callbacks.History at 0x7ff30c51ce50>"
      ]
     },
     "execution_count": 38,
     "metadata": {},
     "output_type": "execute_result"
    }
   ],
   "source": [
    "NN_model.fit(X_train, Y_train, epochs=10, batch_size=64, validation_split = 0.2, callbacks=callbacks_list)"
   ]
  },
  {
   "cell_type": "markdown",
   "metadata": {},
   "source": [
    "Tester le model sur les données de validation"
   ]
  },
  {
   "cell_type": "code",
   "execution_count": 39,
   "metadata": {},
   "outputs": [
    {
     "data": {
      "text/plain": [
       "174.5281870755142"
      ]
     },
     "execution_count": 39,
     "metadata": {},
     "output_type": "execute_result"
    }
   ],
   "source": [
    "pred = NN_model.predict(X_val)\n",
    "mean_squared_error(pred, Y_val)"
   ]
  },
  {
   "cell_type": "markdown",
   "metadata": {},
   "source": [
    "Dans la suite, on vous présente différentes méthodes que nous avons utilisé pour essayer d'améliorer le temps de calcul et la performance..."
   ]
  },
  {
   "cell_type": "markdown",
   "metadata": {},
   "source": [
    "## Model des forets aléatoires avec la validation croisée "
   ]
  },
  {
   "cell_type": "code",
   "execution_count": 40,
   "metadata": {},
   "outputs": [],
   "source": [
    "from sklearn.ensemble import RandomForestRegressor\n",
    "from sklearn.model_selection import KFold\n",
    "from sklearn.model_selection import cross_val_predict\n",
    "rf_model = RandomForestRegressor(n_estimators = 200, criterion = 'mse', max_features = 10, min_samples_split = 2, random_state = 42)"
   ]
  },
  {
   "cell_type": "code",
   "execution_count": 41,
   "metadata": {},
   "outputs": [],
   "source": [
    "cv = KFold(n_splits=10, random_state=1, shuffle=True)\n",
    "\n",
    "pred = cross_val_predict(rf_model, X, Y, cv=cv, n_jobs=-1)"
   ]
  },
  {
   "cell_type": "code",
   "execution_count": 42,
   "metadata": {},
   "outputs": [
    {
     "data": {
      "text/plain": [
       "103.01266051174305"
      ]
     },
     "execution_count": 42,
     "metadata": {},
     "output_type": "execute_result"
    }
   ],
   "source": [
    "mean_squared_error(pred, Y)"
   ]
  },
  {
   "cell_type": "markdown",
   "metadata": {
    "id": "9MpDcJhLu80V"
   },
   "source": [
    "## Sélection des variables"
   ]
  },
  {
   "cell_type": "markdown",
   "metadata": {},
   "source": [
    "Suppression des variables non corrélées avec la variable dépendante..."
   ]
  },
  {
   "cell_type": "code",
   "execution_count": 45,
   "metadata": {},
   "outputs": [
    {
     "name": "stdout",
     "output_type": "stream",
     "text": [
      "nombre totale de variables initiales :  82\n",
      "nombre totale de variables restantes :  69\n"
     ]
    }
   ],
   "source": [
    "df = data\n",
    "cor = df.corr()\n",
    "print(\"nombre totale de variables initiales : \" , len(cor.columns))\n",
    "cor_target = abs(cor[\"critical_temp\"])\n",
    "\n",
    "#threshold\n",
    "th = 0.15\n",
    "\n",
    "relevant_features  = cor_target[cor_target > th]\n",
    "list_ft = list(relevant_features.keys())\n",
    "list_ft.remove('critical_temp')\n",
    "\n",
    "print(\"nombre totale de variables restantes : \" , len(list_ft))\n"
   ]
  },
  {
   "cell_type": "markdown",
   "metadata": {},
   "source": [
    "Affichage d'une partie de la matrice de corrélation. On constate par exemple que les variables mean_Valence et gmean_Valence sont fortement corrélées entre eux (0.99)."
   ]
  },
  {
   "cell_type": "code",
   "execution_count": 46,
   "metadata": {},
   "outputs": [
    {
     "data": {
      "text/plain": [
       "(6, 6)"
      ]
     },
     "metadata": {},
     "output_type": "display_data"
    },
    {
     "data": {
      "text/plain": [
       "0.0004"
      ]
     },
     "metadata": {},
     "output_type": "display_data"
    },
    {
     "data": {
      "text/plain": [
       "143.0"
      ]
     },
     "metadata": {},
     "output_type": "display_data"
    },
    {
     "data": {
      "text/plain": [
       "<matplotlib.axes._subplots.AxesSubplot at 0x7ff30c5284f0>"
      ]
     },
     "execution_count": 46,
     "metadata": {},
     "output_type": "execute_result"
    },
    {
     "data": {
      "image/png": "[encoded data removed]",
      "text/plain": [
       "<Figure size 864x720 with 2 Axes>"
      ]
     },
     "metadata": {
      "needs_background": "light"
     },
     "output_type": "display_data"
    }
   ],
   "source": [
    "import seaborn as sns\n",
    "plt.figure(figsize=(12,10))\n",
    "df1 = df.filter(items=['mean_Valence', 'wtd_mean_Valence', 'gmean_Valence',\n",
    "       'wtd_gmean_Valence', 'entropy_Valence', 'critical_temp'])\n",
    "cor1 = df1.corr()\n",
    "display(cor1.shape)\n",
    "\n",
    "display(df['critical_temp'].min())\n",
    "display(df['critical_temp'].max())\n",
    "\n",
    "sns.heatmap(cor1, annot=True, cmap=plt.cm.Reds)\n",
    "#plt.savefig('correlation_sub_matrix', format='png')"
   ]
  },
  {
   "cell_type": "markdown",
   "metadata": {},
   "source": [
    "Suppression une des variables indépendantes corrélées entre eux, on gardant la plus corrélée avec\n",
    "la variable dépendante..."
   ]
  },
  {
   "cell_type": "code",
   "execution_count": 48,
   "metadata": {},
   "outputs": [
    {
     "name": "stdout",
     "output_type": "stream",
     "text": [
      "We will keep the  19  following features.  ['wtd_entropy_atomic_mass', 'range_atomic_mass', 'wtd_range_atomic_mass', 'wtd_range_fie', 'range_atomic_radius', 'wtd_range_atomic_radius', 'range_Density', 'gmean_ElectronAffinity', 'wtd_range_ElectronAffinity', 'wtd_std_ElectronAffinity', 'wtd_gmean_FusionHeat', 'std_FusionHeat', 'mean_ThermalConductivity', 'gmean_ThermalConductivity', 'wtd_range_ThermalConductivity', 'wtd_std_ThermalConductivity', 'wtd_mean_Valence', 'wtd_range_Valence', 'wtd_std_Valence']\n"
     ]
    }
   ],
   "source": [
    "c = 0\n",
    "ft_to_remove = []\n",
    "\n",
    "final_length = -1\n",
    "\n",
    "while(final_length != len(list_ft)):\n",
    "    for ft in list_ft:\n",
    "        for ft_ in list_ft:\n",
    "            if(ft == ft_):\n",
    "                continue\n",
    "            else:\n",
    "                if(abs(cor[ft][ft_]) > 0.8):\n",
    "                    if(abs(cor[ft]['critical_temp']) > abs(cor[ft_]['critical_temp'])):\n",
    "                        if ft_ not in ft_to_remove:\n",
    "                            c += 1\n",
    "                            ft_to_remove.append(ft_)\n",
    "                            \n",
    "                    else:\n",
    "                        if ft not in ft_to_remove:\n",
    "                            c += 1\n",
    "                            ft_to_remove.append(ft)\n",
    "                            \n",
    "    final_length = len(list_ft)\n",
    "\n",
    "\n",
    "\n",
    "\n",
    "    for ft in ft_to_remove:\n",
    "        list_ft.remove(ft)\n",
    "    \n",
    "\n",
    "print(\"We will keep the \", len(list_ft), \" following features. \", list_ft)\n",
    "\n",
    "\n",
    "\n"
   ]
  },
  {
   "cell_type": "markdown",
   "metadata": {},
   "source": [
    "Création des nouveaux données d'entrainements"
   ]
  },
  {
   "cell_type": "code",
   "execution_count": 49,
   "metadata": {},
   "outputs": [
    {
     "data": {
      "text/plain": [
       "(15948, 19)"
      ]
     },
     "metadata": {},
     "output_type": "display_data"
    },
    {
     "data": {
      "text/plain": [
       "(15948,)"
      ]
     },
     "metadata": {},
     "output_type": "display_data"
    }
   ],
   "source": [
    "X = df.filter(items = list_ft)\n",
    "Y = df[\"critical_temp\"]\n",
    "display(X.shape)\n",
    "display(Y.shape)"
   ]
  },
  {
   "cell_type": "code",
   "execution_count": 50,
   "metadata": {},
   "outputs": [
    {
     "data": {
      "text/plain": [
       "(11961, 19)"
      ]
     },
     "metadata": {},
     "output_type": "display_data"
    },
    {
     "data": {
      "text/plain": [
       "(11961,)"
      ]
     },
     "metadata": {},
     "output_type": "display_data"
    },
    {
     "data": {
      "text/plain": [
       "pandas.core.frame.DataFrame"
      ]
     },
     "metadata": {},
     "output_type": "display_data"
    },
    {
     "data": {
      "text/plain": [
       "numpy.ndarray"
      ]
     },
     "metadata": {},
     "output_type": "display_data"
    }
   ],
   "source": [
    "X_train, X_val, Y_train, Y_val = train_test_split(X, Y, test_size=0.25, random_state=42)\n",
    "\n",
    "display(X_train.shape)\n",
    "display(Y_train.shape)\n",
    "display(type(X_train))\n",
    "Y_train = Y_train.to_numpy().reshape(11961,)\n",
    "display(type(Y_train))"
   ]
  },
  {
   "cell_type": "markdown",
   "metadata": {},
   "source": [
    "Test du même modèle en utilisant les variables sélectionnées"
   ]
  },
  {
   "cell_type": "code",
   "execution_count": 51,
   "metadata": {},
   "outputs": [],
   "source": [
    "rf = RandomForestRegressor(n_estimators = 200, criterion = 'mse', min_samples_split = 2, random_state = 42)# Train the model on training data\n",
    "rf.fit(X_train, Y_train);"
   ]
  },
  {
   "cell_type": "code",
   "execution_count": 52,
   "metadata": {},
   "outputs": [
    {
     "data": {
      "text/plain": [
       "105.82710264777285"
      ]
     },
     "execution_count": 52,
     "metadata": {},
     "output_type": "execute_result"
    }
   ],
   "source": [
    "pred = rf.predict(X_val)\n",
    "mean_squared_error(pred, Y_val)"
   ]
  },
  {
   "cell_type": "markdown",
   "metadata": {},
   "source": [
    "Test du même réseaux de neuronnes en utilisant les variables sélectionnées"
   ]
  },
  {
   "cell_type": "code",
   "execution_count": 53,
   "metadata": {
    "scrolled": true
   },
   "outputs": [
    {
     "name": "stdout",
     "output_type": "stream",
     "text": [
      "Model: \"sequential_2\"\n",
      "_________________________________________________________________\n",
      "Layer (type)                 Output Shape              Param #   \n",
      "=================================================================\n",
      "dense_10 (Dense)             (None, 128)               2560      \n",
      "_________________________________________________________________\n",
      "dense_11 (Dense)             (None, 256)               33024     \n",
      "_________________________________________________________________\n",
      "dense_12 (Dense)             (None, 256)               65792     \n",
      "_________________________________________________________________\n",
      "dense_13 (Dense)             (None, 256)               65792     \n",
      "_________________________________________________________________\n",
      "dense_14 (Dense)             (None, 1)                 257       \n",
      "=================================================================\n",
      "Total params: 167,425\n",
      "Trainable params: 167,425\n",
      "Non-trainable params: 0\n",
      "_________________________________________________________________\n"
     ]
    }
   ],
   "source": [
    "NN_model = Sequential()\n",
    "NN_model.add(Dense(128, kernel_initializer='normal',input_dim = X_train.shape[1], activation='relu'))\n",
    "\n",
    "NN_model.add(Dense(256, kernel_initializer='normal',activation='relu'))\n",
    "NN_model.add(Dense(256, kernel_initializer='normal',activation='relu'))\n",
    "NN_model.add(Dense(256, kernel_initializer='normal',activation='relu'))\n",
    "\n",
    "NN_model.add(Dense(1, kernel_initializer='normal',activation='linear'))\n",
    "\n",
    "NN_model.compile(loss='mean_squared_error', optimizer='adam', metrics=['mean_squared_error'])\n",
    "NN_model.summary()"
   ]
  },
  {
   "cell_type": "code",
   "execution_count": 54,
   "metadata": {},
   "outputs": [
    {
     "name": "stdout",
     "output_type": "stream",
     "text": [
      "Epoch 1/200\n",
      "150/150 [==============================] - 1s 3ms/step - loss: 1601.5598 - mean_squared_error: 1601.5598 - val_loss: 422.5030 - val_mean_squared_error: 422.5030\n",
      "\n",
      "Epoch 00001: val_loss did not improve from 159.78584\n",
      "Epoch 2/200\n",
      "150/150 [==============================] - 0s 2ms/step - loss: 460.6423 - mean_squared_error: 460.6423 - val_loss: 401.9659 - val_mean_squared_error: 401.9659\n",
      "\n",
      "Epoch 00002: val_loss did not improve from 159.78584\n",
      "Epoch 3/200\n",
      "150/150 [==============================] - 0s 2ms/step - loss: 397.2984 - mean_squared_error: 397.2984 - val_loss: 358.3464 - val_mean_squared_error: 358.3464\n",
      "\n",
      "Epoch 00003: val_loss did not improve from 159.78584\n",
      "Epoch 4/200\n",
      "150/150 [==============================] - 0s 2ms/step - loss: 405.6234 - mean_squared_error: 405.6234 - val_loss: 336.5758 - val_mean_squared_error: 336.5758\n",
      "\n",
      "Epoch 00004: val_loss did not improve from 159.78584\n",
      "Epoch 5/200\n",
      "150/150 [==============================] - 0s 3ms/step - loss: 423.5772 - mean_squared_error: 423.5772 - val_loss: 361.1962 - val_mean_squared_error: 361.1962\n",
      "\n",
      "Epoch 00005: val_loss did not improve from 159.78584\n",
      "Epoch 6/200\n",
      "150/150 [==============================] - 0s 2ms/step - loss: 337.3934 - mean_squared_error: 337.3934 - val_loss: 315.7838 - val_mean_squared_error: 315.7838\n",
      "\n",
      "Epoch 00006: val_loss did not improve from 159.78584\n",
      "Epoch 7/200\n",
      "150/150 [==============================] - 0s 2ms/step - loss: 336.1238 - mean_squared_error: 336.1238 - val_loss: 431.4070 - val_mean_squared_error: 431.4070\n",
      "\n",
      "Epoch 00007: val_loss did not improve from 159.78584\n",
      "Epoch 8/200\n",
      "150/150 [==============================] - 0s 2ms/step - loss: 339.0025 - mean_squared_error: 339.0025 - val_loss: 307.0882 - val_mean_squared_error: 307.0882\n",
      "\n",
      "Epoch 00008: val_loss did not improve from 159.78584\n",
      "Epoch 9/200\n",
      "150/150 [==============================] - 0s 2ms/step - loss: 315.6919 - mean_squared_error: 315.6919 - val_loss: 309.8200 - val_mean_squared_error: 309.8200\n",
      "\n",
      "Epoch 00009: val_loss did not improve from 159.78584\n",
      "Epoch 10/200\n",
      "150/150 [==============================] - 0s 3ms/step - loss: 350.0288 - mean_squared_error: 350.0288 - val_loss: 308.3958 - val_mean_squared_error: 308.3958\n",
      "\n",
      "Epoch 00010: val_loss did not improve from 159.78584\n",
      "Epoch 11/200\n",
      "150/150 [==============================] - 1s 5ms/step - loss: 320.6647 - mean_squared_error: 320.6647 - val_loss: 299.7321 - val_mean_squared_error: 299.7321\n",
      "\n",
      "Epoch 00011: val_loss did not improve from 159.78584\n",
      "Epoch 12/200\n",
      "150/150 [==============================] - 0s 2ms/step - loss: 336.4001 - mean_squared_error: 336.4001 - val_loss: 295.9952 - val_mean_squared_error: 295.9952\n",
      "\n",
      "Epoch 00012: val_loss did not improve from 159.78584\n",
      "Epoch 13/200\n",
      "150/150 [==============================] - 0s 2ms/step - loss: 331.8029 - mean_squared_error: 331.8029 - val_loss: 334.3770 - val_mean_squared_error: 334.3770\n",
      "\n",
      "Epoch 00013: val_loss did not improve from 159.78584\n",
      "Epoch 14/200\n",
      "150/150 [==============================] - 0s 2ms/step - loss: 324.4770 - mean_squared_error: 324.4770 - val_loss: 297.6354 - val_mean_squared_error: 297.6354\n",
      "\n",
      "Epoch 00014: val_loss did not improve from 159.78584\n",
      "Epoch 15/200\n",
      "150/150 [==============================] - 0s 2ms/step - loss: 308.6470 - mean_squared_error: 308.6470 - val_loss: 311.4249 - val_mean_squared_error: 311.4249\n",
      "\n",
      "Epoch 00015: val_loss did not improve from 159.78584\n",
      "Epoch 16/200\n",
      "150/150 [==============================] - 0s 2ms/step - loss: 334.0486 - mean_squared_error: 334.0486 - val_loss: 320.0403 - val_mean_squared_error: 320.0403\n",
      "\n",
      "Epoch 00016: val_loss did not improve from 159.78584\n",
      "Epoch 17/200\n",
      "150/150 [==============================] - 0s 2ms/step - loss: 335.0591 - mean_squared_error: 335.0591 - val_loss: 292.2246 - val_mean_squared_error: 292.2246\n",
      "\n",
      "Epoch 00017: val_loss did not improve from 159.78584\n",
      "Epoch 18/200\n",
      "150/150 [==============================] - 0s 2ms/step - loss: 342.8166 - mean_squared_error: 342.8166 - val_loss: 302.8050 - val_mean_squared_error: 302.8050\n",
      "\n",
      "Epoch 00018: val_loss did not improve from 159.78584\n",
      "Epoch 19/200\n",
      "150/150 [==============================] - 0s 2ms/step - loss: 321.7286 - mean_squared_error: 321.7286 - val_loss: 308.8159 - val_mean_squared_error: 308.8159\n",
      "\n",
      "Epoch 00019: val_loss did not improve from 159.78584\n",
      "Epoch 20/200\n",
      "150/150 [==============================] - 0s 2ms/step - loss: 322.5339 - mean_squared_error: 322.5339 - val_loss: 318.2899 - val_mean_squared_error: 318.2899\n",
      "\n",
      "Epoch 00020: val_loss did not improve from 159.78584\n",
      "Epoch 21/200\n",
      "150/150 [==============================] - 0s 2ms/step - loss: 312.0326 - mean_squared_error: 312.0326 - val_loss: 317.2030 - val_mean_squared_error: 317.2030\n",
      "\n",
      "Epoch 00021: val_loss did not improve from 159.78584\n",
      "Epoch 22/200\n",
      "150/150 [==============================] - 0s 2ms/step - loss: 306.7008 - mean_squared_error: 306.7008 - val_loss: 315.2889 - val_mean_squared_error: 315.2889\n",
      "\n",
      "Epoch 00022: val_loss did not improve from 159.78584\n",
      "Epoch 23/200\n",
      "150/150 [==============================] - 0s 2ms/step - loss: 292.9090 - mean_squared_error: 292.9090 - val_loss: 282.9248 - val_mean_squared_error: 282.9248\n",
      "\n",
      "Epoch 00023: val_loss did not improve from 159.78584\n",
      "Epoch 24/200\n",
      "150/150 [==============================] - 0s 2ms/step - loss: 301.0969 - mean_squared_error: 301.0969 - val_loss: 383.7103 - val_mean_squared_error: 383.7103\n",
      "\n",
      "Epoch 00024: val_loss did not improve from 159.78584\n",
      "Epoch 25/200\n",
      "150/150 [==============================] - 0s 2ms/step - loss: 332.5025 - mean_squared_error: 332.5025 - val_loss: 316.8471 - val_mean_squared_error: 316.8471\n",
      "\n",
      "Epoch 00025: val_loss did not improve from 159.78584\n",
      "Epoch 26/200\n",
      "150/150 [==============================] - 0s 2ms/step - loss: 297.6424 - mean_squared_error: 297.6424 - val_loss: 283.9009 - val_mean_squared_error: 283.9009\n",
      "\n",
      "Epoch 00026: val_loss did not improve from 159.78584\n",
      "Epoch 27/200\n",
      "150/150 [==============================] - 0s 2ms/step - loss: 301.4388 - mean_squared_error: 301.4388 - val_loss: 297.0116 - val_mean_squared_error: 297.0116\n",
      "\n",
      "Epoch 00027: val_loss did not improve from 159.78584\n",
      "Epoch 28/200\n",
      "150/150 [==============================] - 0s 2ms/step - loss: 300.9595 - mean_squared_error: 300.9595 - val_loss: 284.0110 - val_mean_squared_error: 284.0110\n",
      "\n",
      "Epoch 00028: val_loss did not improve from 159.78584\n",
      "Epoch 29/200\n",
      "150/150 [==============================] - 0s 2ms/step - loss: 296.0731 - mean_squared_error: 296.0731 - val_loss: 288.8141 - val_mean_squared_error: 288.8141\n",
      "\n",
      "Epoch 00029: val_loss did not improve from 159.78584\n",
      "Epoch 30/200\n",
      "150/150 [==============================] - 0s 2ms/step - loss: 310.7723 - mean_squared_error: 310.7723 - val_loss: 283.6891 - val_mean_squared_error: 283.6891\n",
      "\n",
      "Epoch 00030: val_loss did not improve from 159.78584\n",
      "Epoch 31/200\n",
      "150/150 [==============================] - 0s 2ms/step - loss: 291.2702 - mean_squared_error: 291.2702 - val_loss: 276.2715 - val_mean_squared_error: 276.2715\n",
      "\n",
      "Epoch 00031: val_loss did not improve from 159.78584\n",
      "Epoch 32/200\n",
      "150/150 [==============================] - 0s 2ms/step - loss: 299.0775 - mean_squared_error: 299.0775 - val_loss: 285.8291 - val_mean_squared_error: 285.8291\n",
      "\n",
      "Epoch 00032: val_loss did not improve from 159.78584\n",
      "Epoch 33/200\n",
      "150/150 [==============================] - 0s 2ms/step - loss: 291.1868 - mean_squared_error: 291.1868 - val_loss: 308.6079 - val_mean_squared_error: 308.6079\n",
      "\n",
      "Epoch 00033: val_loss did not improve from 159.78584\n",
      "Epoch 34/200\n",
      "150/150 [==============================] - 0s 2ms/step - loss: 305.5209 - mean_squared_error: 305.5209 - val_loss: 283.8508 - val_mean_squared_error: 283.8508\n",
      "\n",
      "Epoch 00034: val_loss did not improve from 159.78584\n",
      "Epoch 35/200\n",
      "150/150 [==============================] - 0s 2ms/step - loss: 290.1172 - mean_squared_error: 290.1172 - val_loss: 377.7179 - val_mean_squared_error: 377.7179\n",
      "\n",
      "Epoch 00035: val_loss did not improve from 159.78584\n",
      "Epoch 36/200\n",
      "150/150 [==============================] - 0s 2ms/step - loss: 319.4753 - mean_squared_error: 319.4753 - val_loss: 273.6790 - val_mean_squared_error: 273.6790\n",
      "\n",
      "Epoch 00036: val_loss did not improve from 159.78584\n",
      "Epoch 37/200\n"
     ]
    },
    {
     "name": "stdout",
     "output_type": "stream",
     "text": [
      "150/150 [==============================] - 0s 2ms/step - loss: 297.6977 - mean_squared_error: 297.6977 - val_loss: 280.5934 - val_mean_squared_error: 280.5934\n",
      "\n",
      "Epoch 00037: val_loss did not improve from 159.78584\n",
      "Epoch 38/200\n",
      "150/150 [==============================] - 0s 2ms/step - loss: 304.3094 - mean_squared_error: 304.3094 - val_loss: 267.0084 - val_mean_squared_error: 267.0084\n",
      "\n",
      "Epoch 00038: val_loss did not improve from 159.78584\n",
      "Epoch 39/200\n",
      "150/150 [==============================] - 0s 2ms/step - loss: 293.4004 - mean_squared_error: 293.4004 - val_loss: 283.2575 - val_mean_squared_error: 283.2575\n",
      "\n",
      "Epoch 00039: val_loss did not improve from 159.78584\n",
      "Epoch 40/200\n",
      "150/150 [==============================] - 0s 2ms/step - loss: 281.7655 - mean_squared_error: 281.7655 - val_loss: 305.5895 - val_mean_squared_error: 305.5895\n",
      "\n",
      "Epoch 00040: val_loss did not improve from 159.78584\n",
      "Epoch 41/200\n",
      "150/150 [==============================] - 0s 2ms/step - loss: 304.7104 - mean_squared_error: 304.7104 - val_loss: 275.6975 - val_mean_squared_error: 275.6975\n",
      "\n",
      "Epoch 00041: val_loss did not improve from 159.78584\n",
      "Epoch 42/200\n",
      "150/150 [==============================] - 0s 2ms/step - loss: 285.5230 - mean_squared_error: 285.5230 - val_loss: 304.0078 - val_mean_squared_error: 304.0078\n",
      "\n",
      "Epoch 00042: val_loss did not improve from 159.78584\n",
      "Epoch 43/200\n",
      "150/150 [==============================] - 0s 2ms/step - loss: 295.9086 - mean_squared_error: 295.9086 - val_loss: 276.3874 - val_mean_squared_error: 276.3874\n",
      "\n",
      "Epoch 00043: val_loss did not improve from 159.78584\n",
      "Epoch 44/200\n",
      "150/150 [==============================] - 0s 2ms/step - loss: 279.8314 - mean_squared_error: 279.8314 - val_loss: 289.0865 - val_mean_squared_error: 289.0865\n",
      "\n",
      "Epoch 00044: val_loss did not improve from 159.78584\n",
      "Epoch 45/200\n",
      "150/150 [==============================] - 0s 2ms/step - loss: 283.3283 - mean_squared_error: 283.3283 - val_loss: 292.9263 - val_mean_squared_error: 292.9263\n",
      "\n",
      "Epoch 00045: val_loss did not improve from 159.78584\n",
      "Epoch 46/200\n",
      "150/150 [==============================] - 0s 2ms/step - loss: 297.8832 - mean_squared_error: 297.8832 - val_loss: 269.8887 - val_mean_squared_error: 269.8887\n",
      "\n",
      "Epoch 00046: val_loss did not improve from 159.78584\n",
      "Epoch 47/200\n",
      "150/150 [==============================] - 0s 2ms/step - loss: 271.2796 - mean_squared_error: 271.2796 - val_loss: 317.8883 - val_mean_squared_error: 317.8883\n",
      "\n",
      "Epoch 00047: val_loss did not improve from 159.78584\n",
      "Epoch 48/200\n",
      "150/150 [==============================] - 0s 2ms/step - loss: 297.1503 - mean_squared_error: 297.1503 - val_loss: 267.9675 - val_mean_squared_error: 267.9675\n",
      "\n",
      "Epoch 00048: val_loss did not improve from 159.78584\n",
      "Epoch 49/200\n",
      "150/150 [==============================] - 0s 2ms/step - loss: 274.8304 - mean_squared_error: 274.8304 - val_loss: 260.8893 - val_mean_squared_error: 260.8893\n",
      "\n",
      "Epoch 00049: val_loss did not improve from 159.78584\n",
      "Epoch 50/200\n",
      "150/150 [==============================] - 0s 2ms/step - loss: 270.4709 - mean_squared_error: 270.4709 - val_loss: 361.5724 - val_mean_squared_error: 361.5724\n",
      "\n",
      "Epoch 00050: val_loss did not improve from 159.78584\n",
      "Epoch 51/200\n",
      "150/150 [==============================] - 0s 2ms/step - loss: 287.7706 - mean_squared_error: 287.7706 - val_loss: 254.4249 - val_mean_squared_error: 254.4249\n",
      "\n",
      "Epoch 00051: val_loss did not improve from 159.78584\n",
      "Epoch 52/200\n",
      "150/150 [==============================] - 0s 2ms/step - loss: 269.7736 - mean_squared_error: 269.7736 - val_loss: 258.1608 - val_mean_squared_error: 258.1608\n",
      "\n",
      "Epoch 00052: val_loss did not improve from 159.78584\n",
      "Epoch 53/200\n",
      "150/150 [==============================] - 0s 2ms/step - loss: 259.8392 - mean_squared_error: 259.8392 - val_loss: 264.4113 - val_mean_squared_error: 264.4113\n",
      "\n",
      "Epoch 00053: val_loss did not improve from 159.78584\n",
      "Epoch 54/200\n",
      "150/150 [==============================] - 0s 2ms/step - loss: 265.0430 - mean_squared_error: 265.0430 - val_loss: 266.5633 - val_mean_squared_error: 266.5633\n",
      "\n",
      "Epoch 00054: val_loss did not improve from 159.78584\n",
      "Epoch 55/200\n",
      "150/150 [==============================] - 0s 2ms/step - loss: 286.6899 - mean_squared_error: 286.6899 - val_loss: 277.4986 - val_mean_squared_error: 277.4986\n",
      "\n",
      "Epoch 00055: val_loss did not improve from 159.78584\n",
      "Epoch 56/200\n",
      "150/150 [==============================] - 0s 2ms/step - loss: 275.8956 - mean_squared_error: 275.8956 - val_loss: 258.8217 - val_mean_squared_error: 258.8217\n",
      "\n",
      "Epoch 00056: val_loss did not improve from 159.78584\n",
      "Epoch 57/200\n",
      "150/150 [==============================] - 0s 2ms/step - loss: 279.5671 - mean_squared_error: 279.5671 - val_loss: 271.1555 - val_mean_squared_error: 271.1555\n",
      "\n",
      "Epoch 00057: val_loss did not improve from 159.78584\n",
      "Epoch 58/200\n",
      "150/150 [==============================] - 0s 2ms/step - loss: 278.9367 - mean_squared_error: 278.9367 - val_loss: 271.2823 - val_mean_squared_error: 271.2823\n",
      "\n",
      "Epoch 00058: val_loss did not improve from 159.78584\n",
      "Epoch 59/200\n",
      "150/150 [==============================] - 0s 3ms/step - loss: 274.6142 - mean_squared_error: 274.6142 - val_loss: 250.9246 - val_mean_squared_error: 250.9246\n",
      "\n",
      "Epoch 00059: val_loss did not improve from 159.78584\n",
      "Epoch 60/200\n",
      "150/150 [==============================] - 0s 2ms/step - loss: 266.4390 - mean_squared_error: 266.4390 - val_loss: 257.0329 - val_mean_squared_error: 257.0329\n",
      "\n",
      "Epoch 00060: val_loss did not improve from 159.78584\n",
      "Epoch 61/200\n",
      "150/150 [==============================] - 0s 2ms/step - loss: 274.8554 - mean_squared_error: 274.8554 - val_loss: 258.1631 - val_mean_squared_error: 258.1631\n",
      "\n",
      "Epoch 00061: val_loss did not improve from 159.78584\n",
      "Epoch 62/200\n",
      "150/150 [==============================] - 0s 2ms/step - loss: 277.4242 - mean_squared_error: 277.4242 - val_loss: 259.2758 - val_mean_squared_error: 259.2758\n",
      "\n",
      "Epoch 00062: val_loss did not improve from 159.78584\n",
      "Epoch 63/200\n",
      "150/150 [==============================] - 0s 2ms/step - loss: 271.0653 - mean_squared_error: 271.0653 - val_loss: 254.0058 - val_mean_squared_error: 254.0058\n",
      "\n",
      "Epoch 00063: val_loss did not improve from 159.78584\n",
      "Epoch 64/200\n",
      "150/150 [==============================] - 0s 2ms/step - loss: 269.3025 - mean_squared_error: 269.3025 - val_loss: 282.7686 - val_mean_squared_error: 282.7686\n",
      "\n",
      "Epoch 00064: val_loss did not improve from 159.78584\n",
      "Epoch 65/200\n",
      "150/150 [==============================] - 0s 2ms/step - loss: 285.0200 - mean_squared_error: 285.0200 - val_loss: 268.7916 - val_mean_squared_error: 268.7916\n",
      "\n",
      "Epoch 00065: val_loss did not improve from 159.78584\n",
      "Epoch 66/200\n",
      "150/150 [==============================] - 0s 2ms/step - loss: 279.2063 - mean_squared_error: 279.2063 - val_loss: 270.4031 - val_mean_squared_error: 270.4031\n",
      "\n",
      "Epoch 00066: val_loss did not improve from 159.78584\n",
      "Epoch 67/200\n",
      "150/150 [==============================] - 0s 2ms/step - loss: 271.6467 - mean_squared_error: 271.6467 - val_loss: 254.1077 - val_mean_squared_error: 254.1077\n",
      "\n",
      "Epoch 00067: val_loss did not improve from 159.78584\n",
      "Epoch 68/200\n",
      "150/150 [==============================] - 0s 3ms/step - loss: 258.6767 - mean_squared_error: 258.6767 - val_loss: 276.3172 - val_mean_squared_error: 276.3172\n",
      "\n",
      "Epoch 00068: val_loss did not improve from 159.78584\n",
      "Epoch 69/200\n",
      "150/150 [==============================] - 0s 2ms/step - loss: 286.4777 - mean_squared_error: 286.4777 - val_loss: 257.1506 - val_mean_squared_error: 257.1506\n",
      "\n",
      "Epoch 00069: val_loss did not improve from 159.78584\n",
      "Epoch 70/200\n",
      "150/150 [==============================] - 0s 2ms/step - loss: 271.6082 - mean_squared_error: 271.6082 - val_loss: 254.3709 - val_mean_squared_error: 254.3709\n",
      "\n",
      "Epoch 00070: val_loss did not improve from 159.78584\n",
      "Epoch 71/200\n",
      "150/150 [==============================] - 0s 3ms/step - loss: 257.1007 - mean_squared_error: 257.1007 - val_loss: 288.3879 - val_mean_squared_error: 288.3879\n",
      "\n",
      "Epoch 00071: val_loss did not improve from 159.78584\n",
      "Epoch 72/200\n",
      "150/150 [==============================] - 0s 3ms/step - loss: 273.4852 - mean_squared_error: 273.4852 - val_loss: 245.1218 - val_mean_squared_error: 245.1218\n",
      "\n",
      "Epoch 00072: val_loss did not improve from 159.78584\n",
      "Epoch 73/200\n"
     ]
    },
    {
     "name": "stdout",
     "output_type": "stream",
     "text": [
      "150/150 [==============================] - 1s 5ms/step - loss: 264.3650 - mean_squared_error: 264.3650 - val_loss: 245.1159 - val_mean_squared_error: 245.1159\n",
      "\n",
      "Epoch 00073: val_loss did not improve from 159.78584\n",
      "Epoch 74/200\n",
      "150/150 [==============================] - 0s 2ms/step - loss: 261.0315 - mean_squared_error: 261.0315 - val_loss: 272.5074 - val_mean_squared_error: 272.5074\n",
      "\n",
      "Epoch 00074: val_loss did not improve from 159.78584\n",
      "Epoch 75/200\n",
      "150/150 [==============================] - 0s 2ms/step - loss: 263.1457 - mean_squared_error: 263.1457 - val_loss: 270.7928 - val_mean_squared_error: 270.7928\n",
      "\n",
      "Epoch 00075: val_loss did not improve from 159.78584\n",
      "Epoch 76/200\n",
      "150/150 [==============================] - 0s 2ms/step - loss: 257.3423 - mean_squared_error: 257.3423 - val_loss: 251.8981 - val_mean_squared_error: 251.8981\n",
      "\n",
      "Epoch 00076: val_loss did not improve from 159.78584\n",
      "Epoch 77/200\n",
      "150/150 [==============================] - 0s 2ms/step - loss: 254.2931 - mean_squared_error: 254.2931 - val_loss: 282.4042 - val_mean_squared_error: 282.4042\n",
      "\n",
      "Epoch 00077: val_loss did not improve from 159.78584\n",
      "Epoch 78/200\n",
      "150/150 [==============================] - 0s 2ms/step - loss: 281.7007 - mean_squared_error: 281.7007 - val_loss: 250.3922 - val_mean_squared_error: 250.3922\n",
      "\n",
      "Epoch 00078: val_loss did not improve from 159.78584\n",
      "Epoch 79/200\n",
      "150/150 [==============================] - 0s 2ms/step - loss: 257.6880 - mean_squared_error: 257.6880 - val_loss: 248.7152 - val_mean_squared_error: 248.7152\n",
      "\n",
      "Epoch 00079: val_loss did not improve from 159.78584\n",
      "Epoch 80/200\n",
      "150/150 [==============================] - 0s 3ms/step - loss: 254.7738 - mean_squared_error: 254.7738 - val_loss: 249.0930 - val_mean_squared_error: 249.0930\n",
      "\n",
      "Epoch 00080: val_loss did not improve from 159.78584\n",
      "Epoch 81/200\n",
      "150/150 [==============================] - 1s 5ms/step - loss: 246.8480 - mean_squared_error: 246.8480 - val_loss: 253.6213 - val_mean_squared_error: 253.6213\n",
      "\n",
      "Epoch 00081: val_loss did not improve from 159.78584\n",
      "Epoch 82/200\n",
      "150/150 [==============================] - 1s 8ms/step - loss: 265.4921 - mean_squared_error: 265.4921 - val_loss: 251.7749 - val_mean_squared_error: 251.7749\n",
      "\n",
      "Epoch 00082: val_loss did not improve from 159.78584\n",
      "Epoch 83/200\n",
      "150/150 [==============================] - 1s 4ms/step - loss: 254.9870 - mean_squared_error: 254.9870 - val_loss: 246.8922 - val_mean_squared_error: 246.8922\n",
      "\n",
      "Epoch 00083: val_loss did not improve from 159.78584\n",
      "Epoch 84/200\n",
      "150/150 [==============================] - 0s 2ms/step - loss: 264.7979 - mean_squared_error: 264.7979 - val_loss: 250.1812 - val_mean_squared_error: 250.1812\n",
      "\n",
      "Epoch 00084: val_loss did not improve from 159.78584\n",
      "Epoch 85/200\n",
      "150/150 [==============================] - 0s 3ms/step - loss: 258.9843 - mean_squared_error: 258.9843 - val_loss: 248.2934 - val_mean_squared_error: 248.2934\n",
      "\n",
      "Epoch 00085: val_loss did not improve from 159.78584\n",
      "Epoch 86/200\n",
      "150/150 [==============================] - 0s 2ms/step - loss: 255.3562 - mean_squared_error: 255.3562 - val_loss: 244.8814 - val_mean_squared_error: 244.8814\n",
      "\n",
      "Epoch 00086: val_loss did not improve from 159.78584\n",
      "Epoch 87/200\n",
      "150/150 [==============================] - 0s 3ms/step - loss: 252.2649 - mean_squared_error: 252.2649 - val_loss: 242.4121 - val_mean_squared_error: 242.4121\n",
      "\n",
      "Epoch 00087: val_loss did not improve from 159.78584\n",
      "Epoch 88/200\n",
      "150/150 [==============================] - 0s 3ms/step - loss: 246.5380 - mean_squared_error: 246.5380 - val_loss: 247.8621 - val_mean_squared_error: 247.8621\n",
      "\n",
      "Epoch 00088: val_loss did not improve from 159.78584\n",
      "Epoch 89/200\n",
      "150/150 [==============================] - 0s 2ms/step - loss: 247.5317 - mean_squared_error: 247.5317 - val_loss: 257.3866 - val_mean_squared_error: 257.3866\n",
      "\n",
      "Epoch 00089: val_loss did not improve from 159.78584\n",
      "Epoch 90/200\n",
      "150/150 [==============================] - 1s 5ms/step - loss: 242.4412 - mean_squared_error: 242.4412 - val_loss: 236.7178 - val_mean_squared_error: 236.7178\n",
      "\n",
      "Epoch 00090: val_loss did not improve from 159.78584\n",
      "Epoch 91/200\n",
      "150/150 [==============================] - 1s 4ms/step - loss: 251.2692 - mean_squared_error: 251.2692 - val_loss: 246.6858 - val_mean_squared_error: 246.6858\n",
      "\n",
      "Epoch 00091: val_loss did not improve from 159.78584\n",
      "Epoch 92/200\n",
      "150/150 [==============================] - 1s 4ms/step - loss: 243.1540 - mean_squared_error: 243.1540 - val_loss: 250.5473 - val_mean_squared_error: 250.5473\n",
      "\n",
      "Epoch 00092: val_loss did not improve from 159.78584\n",
      "Epoch 93/200\n",
      "150/150 [==============================] - 1s 5ms/step - loss: 245.5771 - mean_squared_error: 245.5771 - val_loss: 250.4997 - val_mean_squared_error: 250.4997\n",
      "\n",
      "Epoch 00093: val_loss did not improve from 159.78584\n",
      "Epoch 94/200\n",
      "150/150 [==============================] - 1s 4ms/step - loss: 232.3991 - mean_squared_error: 232.3991 - val_loss: 245.8267 - val_mean_squared_error: 245.8267\n",
      "\n",
      "Epoch 00094: val_loss did not improve from 159.78584\n",
      "Epoch 95/200\n",
      "150/150 [==============================] - 0s 3ms/step - loss: 264.4827 - mean_squared_error: 264.4827 - val_loss: 265.1968 - val_mean_squared_error: 265.1968\n",
      "\n",
      "Epoch 00095: val_loss did not improve from 159.78584\n",
      "Epoch 96/200\n",
      "150/150 [==============================] - 0s 2ms/step - loss: 259.1191 - mean_squared_error: 259.1191 - val_loss: 245.8421 - val_mean_squared_error: 245.8421\n",
      "\n",
      "Epoch 00096: val_loss did not improve from 159.78584\n",
      "Epoch 97/200\n",
      "150/150 [==============================] - 0s 2ms/step - loss: 251.8767 - mean_squared_error: 251.8767 - val_loss: 242.5044 - val_mean_squared_error: 242.5044\n",
      "\n",
      "Epoch 00097: val_loss did not improve from 159.78584\n",
      "Epoch 98/200\n",
      "150/150 [==============================] - 0s 2ms/step - loss: 249.6509 - mean_squared_error: 249.6509 - val_loss: 251.6014 - val_mean_squared_error: 251.6014\n",
      "\n",
      "Epoch 00098: val_loss did not improve from 159.78584\n",
      "Epoch 99/200\n",
      "150/150 [==============================] - 0s 2ms/step - loss: 250.5884 - mean_squared_error: 250.5884 - val_loss: 250.5076 - val_mean_squared_error: 250.5076\n",
      "\n",
      "Epoch 00099: val_loss did not improve from 159.78584\n",
      "Epoch 100/200\n",
      "150/150 [==============================] - 0s 2ms/step - loss: 255.5461 - mean_squared_error: 255.5461 - val_loss: 240.1987 - val_mean_squared_error: 240.1987\n",
      "\n",
      "Epoch 00100: val_loss did not improve from 159.78584\n",
      "Epoch 101/200\n",
      "150/150 [==============================] - 0s 2ms/step - loss: 249.7096 - mean_squared_error: 249.7096 - val_loss: 240.8354 - val_mean_squared_error: 240.8354\n",
      "\n",
      "Epoch 00101: val_loss did not improve from 159.78584\n",
      "Epoch 102/200\n",
      "150/150 [==============================] - 0s 2ms/step - loss: 263.0531 - mean_squared_error: 263.0531 - val_loss: 286.5599 - val_mean_squared_error: 286.5599\n",
      "\n",
      "Epoch 00102: val_loss did not improve from 159.78584\n",
      "Epoch 103/200\n",
      "150/150 [==============================] - 0s 2ms/step - loss: 254.1887 - mean_squared_error: 254.1887 - val_loss: 240.7892 - val_mean_squared_error: 240.7892\n",
      "\n",
      "Epoch 00103: val_loss did not improve from 159.78584\n",
      "Epoch 104/200\n",
      "150/150 [==============================] - 0s 2ms/step - loss: 237.2051 - mean_squared_error: 237.2051 - val_loss: 251.8883 - val_mean_squared_error: 251.8883\n",
      "\n",
      "Epoch 00104: val_loss did not improve from 159.78584\n",
      "Epoch 105/200\n",
      "150/150 [==============================] - 0s 2ms/step - loss: 244.7791 - mean_squared_error: 244.7791 - val_loss: 245.3571 - val_mean_squared_error: 245.3571\n",
      "\n",
      "Epoch 00105: val_loss did not improve from 159.78584\n",
      "Epoch 106/200\n",
      "150/150 [==============================] - 0s 2ms/step - loss: 243.5591 - mean_squared_error: 243.5591 - val_loss: 249.3712 - val_mean_squared_error: 249.3712\n",
      "\n",
      "Epoch 00106: val_loss did not improve from 159.78584\n",
      "Epoch 107/200\n",
      "150/150 [==============================] - 0s 2ms/step - loss: 242.5014 - mean_squared_error: 242.5014 - val_loss: 244.0553 - val_mean_squared_error: 244.0553\n",
      "\n",
      "Epoch 00107: val_loss did not improve from 159.78584\n",
      "Epoch 108/200\n",
      "150/150 [==============================] - 0s 2ms/step - loss: 231.2454 - mean_squared_error: 231.2454 - val_loss: 232.0844 - val_mean_squared_error: 232.0844\n",
      "\n",
      "Epoch 00108: val_loss did not improve from 159.78584\n",
      "Epoch 109/200\n"
     ]
    },
    {
     "name": "stdout",
     "output_type": "stream",
     "text": [
      "150/150 [==============================] - 0s 3ms/step - loss: 241.9802 - mean_squared_error: 241.9802 - val_loss: 241.3480 - val_mean_squared_error: 241.3480\n",
      "\n",
      "Epoch 00109: val_loss did not improve from 159.78584\n",
      "Epoch 110/200\n",
      "150/150 [==============================] - 0s 2ms/step - loss: 240.1765 - mean_squared_error: 240.1765 - val_loss: 240.7080 - val_mean_squared_error: 240.7080\n",
      "\n",
      "Epoch 00110: val_loss did not improve from 159.78584\n",
      "Epoch 111/200\n",
      "150/150 [==============================] - 0s 2ms/step - loss: 224.9477 - mean_squared_error: 224.9477 - val_loss: 241.7569 - val_mean_squared_error: 241.7569\n",
      "\n",
      "Epoch 00111: val_loss did not improve from 159.78584\n",
      "Epoch 112/200\n",
      "150/150 [==============================] - 0s 2ms/step - loss: 229.9186 - mean_squared_error: 229.9186 - val_loss: 234.7968 - val_mean_squared_error: 234.7968\n",
      "\n",
      "Epoch 00112: val_loss did not improve from 159.78584\n",
      "Epoch 113/200\n",
      "150/150 [==============================] - 0s 2ms/step - loss: 244.7545 - mean_squared_error: 244.7545 - val_loss: 236.3244 - val_mean_squared_error: 236.3244\n",
      "\n",
      "Epoch 00113: val_loss did not improve from 159.78584\n",
      "Epoch 114/200\n",
      "150/150 [==============================] - 0s 2ms/step - loss: 238.5522 - mean_squared_error: 238.5522 - val_loss: 233.0744 - val_mean_squared_error: 233.0744\n",
      "\n",
      "Epoch 00114: val_loss did not improve from 159.78584\n",
      "Epoch 115/200\n",
      "150/150 [==============================] - 0s 2ms/step - loss: 254.7411 - mean_squared_error: 254.7411 - val_loss: 248.6812 - val_mean_squared_error: 248.6812\n",
      "\n",
      "Epoch 00115: val_loss did not improve from 159.78584\n",
      "Epoch 116/200\n",
      "150/150 [==============================] - 0s 2ms/step - loss: 248.5319 - mean_squared_error: 248.5319 - val_loss: 300.0683 - val_mean_squared_error: 300.0683\n",
      "\n",
      "Epoch 00116: val_loss did not improve from 159.78584\n",
      "Epoch 117/200\n",
      "150/150 [==============================] - 0s 2ms/step - loss: 237.5949 - mean_squared_error: 237.5949 - val_loss: 233.6941 - val_mean_squared_error: 233.6941\n",
      "\n",
      "Epoch 00117: val_loss did not improve from 159.78584\n",
      "Epoch 118/200\n",
      "150/150 [==============================] - 0s 2ms/step - loss: 237.9344 - mean_squared_error: 237.9344 - val_loss: 236.2677 - val_mean_squared_error: 236.2677\n",
      "\n",
      "Epoch 00118: val_loss did not improve from 159.78584\n",
      "Epoch 119/200\n",
      "150/150 [==============================] - 0s 2ms/step - loss: 246.7923 - mean_squared_error: 246.7923 - val_loss: 252.6503 - val_mean_squared_error: 252.6503\n",
      "\n",
      "Epoch 00119: val_loss did not improve from 159.78584\n",
      "Epoch 120/200\n",
      "150/150 [==============================] - 0s 2ms/step - loss: 254.8758 - mean_squared_error: 254.8758 - val_loss: 238.4981 - val_mean_squared_error: 238.4981\n",
      "\n",
      "Epoch 00120: val_loss did not improve from 159.78584\n",
      "Epoch 121/200\n",
      "150/150 [==============================] - 0s 2ms/step - loss: 230.7332 - mean_squared_error: 230.7332 - val_loss: 234.8668 - val_mean_squared_error: 234.8668\n",
      "\n",
      "Epoch 00121: val_loss did not improve from 159.78584\n",
      "Epoch 122/200\n",
      "150/150 [==============================] - 0s 2ms/step - loss: 239.8600 - mean_squared_error: 239.8600 - val_loss: 250.2272 - val_mean_squared_error: 250.2272\n",
      "\n",
      "Epoch 00122: val_loss did not improve from 159.78584\n",
      "Epoch 123/200\n",
      "150/150 [==============================] - 0s 3ms/step - loss: 242.2037 - mean_squared_error: 242.2037 - val_loss: 230.3895 - val_mean_squared_error: 230.3895\n",
      "\n",
      "Epoch 00123: val_loss did not improve from 159.78584\n",
      "Epoch 124/200\n",
      "150/150 [==============================] - 0s 2ms/step - loss: 238.9907 - mean_squared_error: 238.9907 - val_loss: 253.8318 - val_mean_squared_error: 253.8318\n",
      "\n",
      "Epoch 00124: val_loss did not improve from 159.78584\n",
      "Epoch 125/200\n",
      "150/150 [==============================] - 0s 2ms/step - loss: 235.1764 - mean_squared_error: 235.1764 - val_loss: 239.0401 - val_mean_squared_error: 239.0401\n",
      "\n",
      "Epoch 00125: val_loss did not improve from 159.78584\n",
      "Epoch 126/200\n",
      "150/150 [==============================] - 0s 2ms/step - loss: 234.6262 - mean_squared_error: 234.6262 - val_loss: 231.6961 - val_mean_squared_error: 231.6961\n",
      "\n",
      "Epoch 00126: val_loss did not improve from 159.78584\n",
      "Epoch 127/200\n",
      "150/150 [==============================] - 0s 2ms/step - loss: 239.6193 - mean_squared_error: 239.6193 - val_loss: 238.4308 - val_mean_squared_error: 238.4308\n",
      "\n",
      "Epoch 00127: val_loss did not improve from 159.78584\n",
      "Epoch 128/200\n",
      "150/150 [==============================] - 0s 2ms/step - loss: 242.7582 - mean_squared_error: 242.7582 - val_loss: 239.0959 - val_mean_squared_error: 239.0959\n",
      "\n",
      "Epoch 00128: val_loss did not improve from 159.78584\n",
      "Epoch 129/200\n",
      "150/150 [==============================] - 0s 2ms/step - loss: 250.2109 - mean_squared_error: 250.2109 - val_loss: 256.9506 - val_mean_squared_error: 256.9506\n",
      "\n",
      "Epoch 00129: val_loss did not improve from 159.78584\n",
      "Epoch 130/200\n",
      "150/150 [==============================] - 0s 2ms/step - loss: 240.1889 - mean_squared_error: 240.1889 - val_loss: 238.5846 - val_mean_squared_error: 238.5846\n",
      "\n",
      "Epoch 00130: val_loss did not improve from 159.78584\n",
      "Epoch 131/200\n",
      "150/150 [==============================] - 0s 2ms/step - loss: 234.2909 - mean_squared_error: 234.2909 - val_loss: 243.9537 - val_mean_squared_error: 243.9537\n",
      "\n",
      "Epoch 00131: val_loss did not improve from 159.78584\n",
      "Epoch 132/200\n",
      "150/150 [==============================] - 0s 2ms/step - loss: 231.7031 - mean_squared_error: 231.7031 - val_loss: 231.7064 - val_mean_squared_error: 231.7064\n",
      "\n",
      "Epoch 00132: val_loss did not improve from 159.78584\n",
      "Epoch 133/200\n",
      "150/150 [==============================] - 0s 2ms/step - loss: 235.2458 - mean_squared_error: 235.2458 - val_loss: 267.0888 - val_mean_squared_error: 267.0888\n",
      "\n",
      "Epoch 00133: val_loss did not improve from 159.78584\n",
      "Epoch 134/200\n",
      "150/150 [==============================] - 0s 2ms/step - loss: 242.3172 - mean_squared_error: 242.3172 - val_loss: 229.4864 - val_mean_squared_error: 229.4864\n",
      "\n",
      "Epoch 00134: val_loss did not improve from 159.78584\n",
      "Epoch 135/200\n",
      "150/150 [==============================] - 0s 2ms/step - loss: 245.7527 - mean_squared_error: 245.7527 - val_loss: 237.6224 - val_mean_squared_error: 237.6224\n",
      "\n",
      "Epoch 00135: val_loss did not improve from 159.78584\n",
      "Epoch 136/200\n",
      "150/150 [==============================] - 0s 2ms/step - loss: 242.5585 - mean_squared_error: 242.5585 - val_loss: 244.8005 - val_mean_squared_error: 244.8005\n",
      "\n",
      "Epoch 00136: val_loss did not improve from 159.78584\n",
      "Epoch 137/200\n",
      "150/150 [==============================] - 0s 2ms/step - loss: 219.7388 - mean_squared_error: 219.7388 - val_loss: 232.5440 - val_mean_squared_error: 232.5440\n",
      "\n",
      "Epoch 00137: val_loss did not improve from 159.78584\n",
      "Epoch 138/200\n",
      "150/150 [==============================] - 0s 2ms/step - loss: 229.1894 - mean_squared_error: 229.1894 - val_loss: 231.2561 - val_mean_squared_error: 231.2561\n",
      "\n",
      "Epoch 00138: val_loss did not improve from 159.78584\n",
      "Epoch 139/200\n",
      "150/150 [==============================] - 0s 2ms/step - loss: 236.7537 - mean_squared_error: 236.7537 - val_loss: 237.5074 - val_mean_squared_error: 237.5074\n",
      "\n",
      "Epoch 00139: val_loss did not improve from 159.78584\n",
      "Epoch 140/200\n",
      "150/150 [==============================] - 0s 2ms/step - loss: 244.0898 - mean_squared_error: 244.0898 - val_loss: 226.2762 - val_mean_squared_error: 226.2762\n",
      "\n",
      "Epoch 00140: val_loss did not improve from 159.78584\n",
      "Epoch 141/200\n",
      "150/150 [==============================] - 0s 2ms/step - loss: 242.6195 - mean_squared_error: 242.6195 - val_loss: 233.3321 - val_mean_squared_error: 233.3321\n",
      "\n",
      "Epoch 00141: val_loss did not improve from 159.78584\n",
      "Epoch 142/200\n",
      "150/150 [==============================] - 0s 2ms/step - loss: 236.4562 - mean_squared_error: 236.4562 - val_loss: 260.9333 - val_mean_squared_error: 260.9333\n",
      "\n",
      "Epoch 00142: val_loss did not improve from 159.78584\n",
      "Epoch 143/200\n",
      "150/150 [==============================] - 0s 2ms/step - loss: 236.0031 - mean_squared_error: 236.0031 - val_loss: 233.3195 - val_mean_squared_error: 233.3195\n",
      "\n",
      "Epoch 00143: val_loss did not improve from 159.78584\n",
      "Epoch 144/200\n",
      "150/150 [==============================] - 0s 2ms/step - loss: 231.1272 - mean_squared_error: 231.1272 - val_loss: 235.1157 - val_mean_squared_error: 235.1157\n",
      "\n",
      "Epoch 00144: val_loss did not improve from 159.78584\n",
      "Epoch 145/200\n"
     ]
    },
    {
     "name": "stdout",
     "output_type": "stream",
     "text": [
      "150/150 [==============================] - 0s 2ms/step - loss: 246.3584 - mean_squared_error: 246.3584 - val_loss: 244.2596 - val_mean_squared_error: 244.2596\n",
      "\n",
      "Epoch 00145: val_loss did not improve from 159.78584\n",
      "Epoch 146/200\n",
      "150/150 [==============================] - 0s 2ms/step - loss: 229.0897 - mean_squared_error: 229.0897 - val_loss: 239.1192 - val_mean_squared_error: 239.1192\n",
      "\n",
      "Epoch 00146: val_loss did not improve from 159.78584\n",
      "Epoch 147/200\n",
      "150/150 [==============================] - 0s 2ms/step - loss: 225.6692 - mean_squared_error: 225.6692 - val_loss: 230.1378 - val_mean_squared_error: 230.1378\n",
      "\n",
      "Epoch 00147: val_loss did not improve from 159.78584\n",
      "Epoch 148/200\n",
      "150/150 [==============================] - 0s 2ms/step - loss: 230.3974 - mean_squared_error: 230.3974 - val_loss: 263.4696 - val_mean_squared_error: 263.4696\n",
      "\n",
      "Epoch 00148: val_loss did not improve from 159.78584\n",
      "Epoch 149/200\n",
      "150/150 [==============================] - 0s 2ms/step - loss: 248.3038 - mean_squared_error: 248.3038 - val_loss: 225.8749 - val_mean_squared_error: 225.8749\n",
      "\n",
      "Epoch 00149: val_loss did not improve from 159.78584\n",
      "Epoch 150/200\n",
      "150/150 [==============================] - 0s 2ms/step - loss: 223.4439 - mean_squared_error: 223.4439 - val_loss: 225.6843 - val_mean_squared_error: 225.6843\n",
      "\n",
      "Epoch 00150: val_loss did not improve from 159.78584\n",
      "Epoch 151/200\n",
      "150/150 [==============================] - 0s 2ms/step - loss: 218.9478 - mean_squared_error: 218.9478 - val_loss: 250.8335 - val_mean_squared_error: 250.8335\n",
      "\n",
      "Epoch 00151: val_loss did not improve from 159.78584\n",
      "Epoch 152/200\n",
      "150/150 [==============================] - 0s 2ms/step - loss: 239.5038 - mean_squared_error: 239.5038 - val_loss: 239.0192 - val_mean_squared_error: 239.0192\n",
      "\n",
      "Epoch 00152: val_loss did not improve from 159.78584\n",
      "Epoch 153/200\n",
      "150/150 [==============================] - 0s 2ms/step - loss: 226.2658 - mean_squared_error: 226.2658 - val_loss: 222.7026 - val_mean_squared_error: 222.7026\n",
      "\n",
      "Epoch 00153: val_loss did not improve from 159.78584\n",
      "Epoch 154/200\n",
      "150/150 [==============================] - 0s 2ms/step - loss: 229.6494 - mean_squared_error: 229.6494 - val_loss: 216.8812 - val_mean_squared_error: 216.8812\n",
      "\n",
      "Epoch 00154: val_loss did not improve from 159.78584\n",
      "Epoch 155/200\n",
      "150/150 [==============================] - 0s 2ms/step - loss: 216.8319 - mean_squared_error: 216.8319 - val_loss: 227.1283 - val_mean_squared_error: 227.1283\n",
      "\n",
      "Epoch 00155: val_loss did not improve from 159.78584\n",
      "Epoch 156/200\n",
      "150/150 [==============================] - 0s 2ms/step - loss: 222.6278 - mean_squared_error: 222.6278 - val_loss: 228.2996 - val_mean_squared_error: 228.2996\n",
      "\n",
      "Epoch 00156: val_loss did not improve from 159.78584\n",
      "Epoch 157/200\n",
      "150/150 [==============================] - 0s 2ms/step - loss: 226.4249 - mean_squared_error: 226.4249 - val_loss: 242.8591 - val_mean_squared_error: 242.8591\n",
      "\n",
      "Epoch 00157: val_loss did not improve from 159.78584\n",
      "Epoch 158/200\n",
      "150/150 [==============================] - 0s 2ms/step - loss: 242.5222 - mean_squared_error: 242.5222 - val_loss: 238.4057 - val_mean_squared_error: 238.4057\n",
      "\n",
      "Epoch 00158: val_loss did not improve from 159.78584\n",
      "Epoch 159/200\n",
      "150/150 [==============================] - 0s 2ms/step - loss: 217.5673 - mean_squared_error: 217.5673 - val_loss: 228.4787 - val_mean_squared_error: 228.4787\n",
      "\n",
      "Epoch 00159: val_loss did not improve from 159.78584\n",
      "Epoch 160/200\n",
      "150/150 [==============================] - 0s 2ms/step - loss: 223.1897 - mean_squared_error: 223.1897 - val_loss: 239.5923 - val_mean_squared_error: 239.5923\n",
      "\n",
      "Epoch 00160: val_loss did not improve from 159.78584\n",
      "Epoch 161/200\n",
      "150/150 [==============================] - 0s 2ms/step - loss: 223.1487 - mean_squared_error: 223.1487 - val_loss: 225.2731 - val_mean_squared_error: 225.2731\n",
      "\n",
      "Epoch 00161: val_loss did not improve from 159.78584\n",
      "Epoch 162/200\n",
      "150/150 [==============================] - 0s 2ms/step - loss: 229.9427 - mean_squared_error: 229.9427 - val_loss: 273.0475 - val_mean_squared_error: 273.0475\n",
      "\n",
      "Epoch 00162: val_loss did not improve from 159.78584\n",
      "Epoch 163/200\n",
      "150/150 [==============================] - 0s 2ms/step - loss: 225.7195 - mean_squared_error: 225.7195 - val_loss: 236.0499 - val_mean_squared_error: 236.0499\n",
      "\n",
      "Epoch 00163: val_loss did not improve from 159.78584\n",
      "Epoch 164/200\n",
      "150/150 [==============================] - 0s 2ms/step - loss: 226.3884 - mean_squared_error: 226.3884 - val_loss: 251.1242 - val_mean_squared_error: 251.1242\n",
      "\n",
      "Epoch 00164: val_loss did not improve from 159.78584\n",
      "Epoch 165/200\n",
      "150/150 [==============================] - 0s 2ms/step - loss: 234.5126 - mean_squared_error: 234.5126 - val_loss: 245.4348 - val_mean_squared_error: 245.4348\n",
      "\n",
      "Epoch 00165: val_loss did not improve from 159.78584\n",
      "Epoch 166/200\n",
      "150/150 [==============================] - 0s 2ms/step - loss: 230.7178 - mean_squared_error: 230.7178 - val_loss: 244.4273 - val_mean_squared_error: 244.4273\n",
      "\n",
      "Epoch 00166: val_loss did not improve from 159.78584\n",
      "Epoch 167/200\n",
      "150/150 [==============================] - 0s 2ms/step - loss: 225.8302 - mean_squared_error: 225.8302 - val_loss: 265.2852 - val_mean_squared_error: 265.2852\n",
      "\n",
      "Epoch 00167: val_loss did not improve from 159.78584\n",
      "Epoch 168/200\n",
      "150/150 [==============================] - 0s 2ms/step - loss: 213.6832 - mean_squared_error: 213.6832 - val_loss: 268.9591 - val_mean_squared_error: 268.9591\n",
      "\n",
      "Epoch 00168: val_loss did not improve from 159.78584\n",
      "Epoch 169/200\n",
      "150/150 [==============================] - 0s 2ms/step - loss: 231.3796 - mean_squared_error: 231.3796 - val_loss: 233.0607 - val_mean_squared_error: 233.0607\n",
      "\n",
      "Epoch 00169: val_loss did not improve from 159.78584\n",
      "Epoch 170/200\n",
      "150/150 [==============================] - 0s 2ms/step - loss: 233.7871 - mean_squared_error: 233.7871 - val_loss: 223.9805 - val_mean_squared_error: 223.9805\n",
      "\n",
      "Epoch 00170: val_loss did not improve from 159.78584\n",
      "Epoch 171/200\n",
      "150/150 [==============================] - 0s 2ms/step - loss: 219.2437 - mean_squared_error: 219.2437 - val_loss: 226.4046 - val_mean_squared_error: 226.4046\n",
      "\n",
      "Epoch 00171: val_loss did not improve from 159.78584\n",
      "Epoch 172/200\n",
      "150/150 [==============================] - 0s 2ms/step - loss: 213.7127 - mean_squared_error: 213.7127 - val_loss: 240.9553 - val_mean_squared_error: 240.9553\n",
      "\n",
      "Epoch 00172: val_loss did not improve from 159.78584\n",
      "Epoch 173/200\n",
      "150/150 [==============================] - 0s 2ms/step - loss: 222.8076 - mean_squared_error: 222.8076 - val_loss: 232.8619 - val_mean_squared_error: 232.8619\n",
      "\n",
      "Epoch 00173: val_loss did not improve from 159.78584\n",
      "Epoch 174/200\n",
      "150/150 [==============================] - 0s 2ms/step - loss: 218.3515 - mean_squared_error: 218.3515 - val_loss: 229.2116 - val_mean_squared_error: 229.2116\n",
      "\n",
      "Epoch 00174: val_loss did not improve from 159.78584\n",
      "Epoch 175/200\n",
      "150/150 [==============================] - 0s 2ms/step - loss: 220.3309 - mean_squared_error: 220.3309 - val_loss: 225.1441 - val_mean_squared_error: 225.1441\n",
      "\n",
      "Epoch 00175: val_loss did not improve from 159.78584\n",
      "Epoch 176/200\n",
      "150/150 [==============================] - 0s 2ms/step - loss: 218.9352 - mean_squared_error: 218.9352 - val_loss: 212.6286 - val_mean_squared_error: 212.6286\n",
      "\n",
      "Epoch 00176: val_loss did not improve from 159.78584\n",
      "Epoch 177/200\n",
      "150/150 [==============================] - 0s 2ms/step - loss: 211.4792 - mean_squared_error: 211.4792 - val_loss: 217.2392 - val_mean_squared_error: 217.2392\n",
      "\n",
      "Epoch 00177: val_loss did not improve from 159.78584\n",
      "Epoch 178/200\n",
      "150/150 [==============================] - 0s 2ms/step - loss: 208.4123 - mean_squared_error: 208.4123 - val_loss: 221.7267 - val_mean_squared_error: 221.7267\n",
      "\n",
      "Epoch 00178: val_loss did not improve from 159.78584\n",
      "Epoch 179/200\n",
      "150/150 [==============================] - 0s 2ms/step - loss: 211.6175 - mean_squared_error: 211.6175 - val_loss: 234.1831 - val_mean_squared_error: 234.1831\n",
      "\n",
      "Epoch 00179: val_loss did not improve from 159.78584\n",
      "Epoch 180/200\n",
      "150/150 [==============================] - 0s 2ms/step - loss: 228.7562 - mean_squared_error: 228.7562 - val_loss: 224.8611 - val_mean_squared_error: 224.8611\n",
      "\n",
      "Epoch 00180: val_loss did not improve from 159.78584\n",
      "Epoch 181/200\n"
     ]
    },
    {
     "name": "stdout",
     "output_type": "stream",
     "text": [
      "150/150 [==============================] - 0s 2ms/step - loss: 226.2908 - mean_squared_error: 226.2908 - val_loss: 248.8106 - val_mean_squared_error: 248.8106\n",
      "\n",
      "Epoch 00181: val_loss did not improve from 159.78584\n",
      "Epoch 182/200\n",
      "150/150 [==============================] - 0s 2ms/step - loss: 210.6565 - mean_squared_error: 210.6565 - val_loss: 215.7471 - val_mean_squared_error: 215.7471\n",
      "\n",
      "Epoch 00182: val_loss did not improve from 159.78584\n",
      "Epoch 183/200\n",
      "150/150 [==============================] - 0s 2ms/step - loss: 194.0137 - mean_squared_error: 194.0137 - val_loss: 213.0359 - val_mean_squared_error: 213.0359\n",
      "\n",
      "Epoch 00183: val_loss did not improve from 159.78584\n",
      "Epoch 184/200\n",
      "150/150 [==============================] - 0s 2ms/step - loss: 206.9122 - mean_squared_error: 206.9122 - val_loss: 253.6405 - val_mean_squared_error: 253.6405\n",
      "\n",
      "Epoch 00184: val_loss did not improve from 159.78584\n",
      "Epoch 185/200\n",
      "150/150 [==============================] - 0s 2ms/step - loss: 227.0210 - mean_squared_error: 227.0210 - val_loss: 219.8537 - val_mean_squared_error: 219.8537\n",
      "\n",
      "Epoch 00185: val_loss did not improve from 159.78584\n",
      "Epoch 186/200\n",
      "150/150 [==============================] - 0s 2ms/step - loss: 218.8931 - mean_squared_error: 218.8931 - val_loss: 243.5701 - val_mean_squared_error: 243.5701\n",
      "\n",
      "Epoch 00186: val_loss did not improve from 159.78584\n",
      "Epoch 187/200\n",
      "150/150 [==============================] - 0s 2ms/step - loss: 222.4343 - mean_squared_error: 222.4343 - val_loss: 216.1606 - val_mean_squared_error: 216.1606\n",
      "\n",
      "Epoch 00187: val_loss did not improve from 159.78584\n",
      "Epoch 188/200\n",
      "150/150 [==============================] - 0s 2ms/step - loss: 203.3849 - mean_squared_error: 203.3849 - val_loss: 219.8521 - val_mean_squared_error: 219.8521\n",
      "\n",
      "Epoch 00188: val_loss did not improve from 159.78584\n",
      "Epoch 189/200\n",
      "150/150 [==============================] - 0s 2ms/step - loss: 223.8000 - mean_squared_error: 223.8000 - val_loss: 224.3186 - val_mean_squared_error: 224.3186\n",
      "\n",
      "Epoch 00189: val_loss did not improve from 159.78584\n",
      "Epoch 190/200\n",
      "150/150 [==============================] - 0s 2ms/step - loss: 212.2630 - mean_squared_error: 212.2630 - val_loss: 219.6556 - val_mean_squared_error: 219.6556\n",
      "\n",
      "Epoch 00190: val_loss did not improve from 159.78584\n",
      "Epoch 191/200\n",
      "150/150 [==============================] - 0s 2ms/step - loss: 230.4118 - mean_squared_error: 230.4118 - val_loss: 258.7472 - val_mean_squared_error: 258.7472\n",
      "\n",
      "Epoch 00191: val_loss did not improve from 159.78584\n",
      "Epoch 192/200\n",
      "150/150 [==============================] - 0s 2ms/step - loss: 215.4756 - mean_squared_error: 215.4756 - val_loss: 214.6029 - val_mean_squared_error: 214.6029\n",
      "\n",
      "Epoch 00192: val_loss did not improve from 159.78584\n",
      "Epoch 193/200\n",
      "150/150 [==============================] - 0s 2ms/step - loss: 211.6528 - mean_squared_error: 211.6528 - val_loss: 217.9269 - val_mean_squared_error: 217.9269\n",
      "\n",
      "Epoch 00193: val_loss did not improve from 159.78584\n",
      "Epoch 194/200\n",
      "150/150 [==============================] - 0s 2ms/step - loss: 232.0880 - mean_squared_error: 232.0880 - val_loss: 251.7675 - val_mean_squared_error: 251.7675\n",
      "\n",
      "Epoch 00194: val_loss did not improve from 159.78584\n",
      "Epoch 195/200\n",
      "150/150 [==============================] - 0s 2ms/step - loss: 225.1346 - mean_squared_error: 225.1346 - val_loss: 229.5683 - val_mean_squared_error: 229.5683\n",
      "\n",
      "Epoch 00195: val_loss did not improve from 159.78584\n",
      "Epoch 196/200\n",
      "150/150 [==============================] - 0s 2ms/step - loss: 214.1488 - mean_squared_error: 214.1488 - val_loss: 246.3017 - val_mean_squared_error: 246.3017\n",
      "\n",
      "Epoch 00196: val_loss did not improve from 159.78584\n",
      "Epoch 197/200\n",
      "150/150 [==============================] - 0s 2ms/step - loss: 234.3310 - mean_squared_error: 234.3310 - val_loss: 223.7186 - val_mean_squared_error: 223.7186\n",
      "\n",
      "Epoch 00197: val_loss did not improve from 159.78584\n",
      "Epoch 198/200\n",
      "150/150 [==============================] - 0s 2ms/step - loss: 208.8350 - mean_squared_error: 208.8350 - val_loss: 222.2607 - val_mean_squared_error: 222.2607\n",
      "\n",
      "Epoch 00198: val_loss did not improve from 159.78584\n",
      "Epoch 199/200\n",
      "150/150 [==============================] - 0s 2ms/step - loss: 221.5374 - mean_squared_error: 221.5374 - val_loss: 215.4394 - val_mean_squared_error: 215.4394\n",
      "\n",
      "Epoch 00199: val_loss did not improve from 159.78584\n",
      "Epoch 200/200\n",
      "150/150 [==============================] - 0s 2ms/step - loss: 221.0820 - mean_squared_error: 221.0820 - val_loss: 217.5089 - val_mean_squared_error: 217.5089\n",
      "\n",
      "Epoch 00200: val_loss did not improve from 159.78584\n"
     ]
    },
    {
     "data": {
      "text/plain": [
       "<tensorflow.python.keras.callbacks.History at 0x7ff311c61400>"
      ]
     },
     "execution_count": 54,
     "metadata": {},
     "output_type": "execute_result"
    }
   ],
   "source": [
    "NN_model.fit(X_train, Y_train, epochs=200, batch_size=64, validation_split = 0.2, callbacks=callbacks_list)"
   ]
  },
  {
   "cell_type": "code",
   "execution_count": 55,
   "metadata": {},
   "outputs": [
    {
     "data": {
      "text/plain": [
       "252.31713271794058"
      ]
     },
     "execution_count": 55,
     "metadata": {},
     "output_type": "execute_result"
    }
   ],
   "source": [
    "pred = NN_model.predict(X_val)\n",
    "mean_squared_error(pred, Y_val)"
   ]
  },
  {
   "cell_type": "markdown",
   "metadata": {},
   "source": [
    "## Meilleur Model"
   ]
  },
  {
   "cell_type": "code",
   "execution_count": 56,
   "metadata": {},
   "outputs": [],
   "source": [
    "from sklearn.ensemble import RandomForestRegressor\n",
    "from sklearn.model_selection import KFold\n",
    "from sklearn.model_selection import cross_val_predict\n",
    "rf_model = RandomForestRegressor(n_estimators = 200, criterion = 'mse', max_features = 10, min_samples_split = 2, random_state = 42)"
   ]
  },
  {
   "cell_type": "code",
   "execution_count": 57,
   "metadata": {},
   "outputs": [],
   "source": [
    "cv = KFold(n_splits=10, random_state=1, shuffle=True)\n",
    "\n",
    "pred = cross_val_predict(rf_model, X, Y, cv=cv, n_jobs=-1)"
   ]
  },
  {
   "cell_type": "code",
   "execution_count": 58,
   "metadata": {},
   "outputs": [
    {
     "data": {
      "text/plain": [
       "94.1225414334276"
      ]
     },
     "execution_count": 58,
     "metadata": {},
     "output_type": "execute_result"
    }
   ],
   "source": [
    "mean_squared_error(pred, Y)"
   ]
  },
  {
   "cell_type": "code",
   "execution_count": 59,
   "metadata": {},
   "outputs": [
    {
     "data": {
      "text/plain": [
       "(11961, 19)"
      ]
     },
     "execution_count": 59,
     "metadata": {},
     "output_type": "execute_result"
    }
   ],
   "source": [
    "X_train.shape"
   ]
  },
  {
   "cell_type": "code",
   "execution_count": 60,
   "metadata": {},
   "outputs": [
    {
     "data": {
      "text/plain": [
       "RandomForestRegressor(max_features=10, n_estimators=200, random_state=42)"
      ]
     },
     "metadata": {},
     "output_type": "display_data"
    },
    {
     "data": {
      "text/plain": [
       "0.9113077355743876"
      ]
     },
     "metadata": {},
     "output_type": "display_data"
    }
   ],
   "source": [
    "display(rf_model.fit(X_train, Y_train))\n",
    "display(rf_model.score(X_val, Y_val))"
   ]
  },
  {
   "cell_type": "code",
   "execution_count": 61,
   "metadata": {},
   "outputs": [],
   "source": [
    "X_test = data_test.filter(items = list_ft)\n",
    "pred_test = rf_model.predict(X_test)\n",
    "\n",
    "np.savetxt('predictions.csv', pred_test, delimiter=',')"
   ]
  }
 ],
 "metadata": {
  "colab": {
   "name": "temp-critique.ipynb",
   "provenance": [],
   "toc_visible": true
  },
  "kernelspec": {
   "display_name": "Python 3",
   "language": "python",
   "name": "python3"
  },
  "language_info": {
   "codemirror_mode": {
    "name": "ipython",
    "version": 3
   },
   "file_extension": ".py",
   "mimetype": "text/x-python",
   "name": "python",
   "nbconvert_exporter": "python",
   "pygments_lexer": "ipython3",
   "version": "3.8.5"
  }
 },
 "nbformat": 4,
 "nbformat_minor": 1
}
